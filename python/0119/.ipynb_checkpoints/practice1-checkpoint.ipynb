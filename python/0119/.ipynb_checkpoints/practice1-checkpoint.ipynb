{
 "cells": [
  {
   "cell_type": "markdown",
   "metadata": {},
   "source": [
    "# 1. Practice 1\n",
    "\n",
    "> 데이터 & 제어문"
   ]
  },
  {
   "cell_type": "markdown",
   "metadata": {},
   "source": [
    "## 1.1 갯수 구하기\n",
    "\n",
    "> 주어진 리스트의 요소는 학생 이름으로 구성되어 있다. 학생들의 수를 출력하시오.\n",
    "\n",
    "---\n",
    "\n",
    "```\n",
    "[출력 예시]\n",
    "3\n",
    "```"
   ]
  },
  {
   "cell_type": "code",
   "execution_count": 23,
   "metadata": {
    "ExecuteTime": {
     "end_time": "2020-07-20T07:21:43.556594Z",
     "start_time": "2020-07-20T07:21:43.553351Z"
    }
   },
   "outputs": [
    {
     "name": "stdout",
     "output_type": "stream",
     "text": [
      "3\n"
     ]
    }
   ],
   "source": [
    "students = ['김철수', '이영희', '조민지']\n",
    "\n",
    "# 아래에 코드를 작성하시오.\n",
    "\n",
    "# 풀이 1\n",
    "#print(len(students))\n",
    "\n",
    " # 풀이 2\n",
    "\n",
    "# 1. 변수 초기화\n",
    "total = 0\n",
    "\n",
    "# 2. 반복(순회) 시작\n",
    "for student in students:\n",
    "    total += 1\n",
    "print(total)"
   ]
  },
  {
   "cell_type": "markdown",
   "metadata": {},
   "source": [
    "## 1.2 득표수 구하기\n",
    "\n",
    "> 주어진 리스트는 반장 선거 투표 결과이다. 이영희의 총 득표수를 출력하시오.\n",
    "\n",
    "---\n",
    "\n",
    "```\n",
    "[출력 예시]\n",
    "4\n",
    "```"
   ]
  },
  {
   "cell_type": "code",
   "execution_count": 25,
   "metadata": {},
   "outputs": [
    {
     "name": "stdout",
     "output_type": "stream",
     "text": [
      "4\n"
     ]
    }
   ],
   "source": [
    "students = ['이영희', '김철수', '이영희', '조민지', '김철수', '조민지', '이영희', '이영희']\n",
    "\n",
    "# 아래에 코드를 작성하시오.\n",
    "\n",
    "# 풀이 1\n",
    "# print(students.count('이영희'))\n",
    "\n",
    "# 풀이 2\n",
    "# 1. 변수 초기화\n",
    "count = 0\n",
    "\n",
    "# 2.반복\n",
    "for student in students:\n",
    "    if student == '이영희': # 만약 이영희씨면\n",
    "        count += 1          # 카운트 추가\n",
    "        \n",
    "print(count)"
   ]
  },
  {
   "cell_type": "markdown",
   "metadata": {},
   "source": [
    "## 1.3 최댓값 구하기\n",
    "\n",
    "> 주어진 리스트의 요소 중에서 최댓값을 출력하시오.\n",
    "\n",
    "---\n",
    "```\n",
    "[출력 예시]\n",
    "22\n",
    "```"
   ]
  },
  {
   "cell_type": "code",
   "execution_count": 26,
   "metadata": {},
   "outputs": [
    {
     "name": "stdout",
     "output_type": "stream",
     "text": [
      "22\n",
      "22\n"
     ]
    }
   ],
   "source": [
    "numbers = [7, 10, 22, 4, 3, 17]\n",
    "\n",
    "# 아래에 코드를 작성하시오.\n",
    "\n",
    "# 풀이 1\n",
    "# print(max(numbers))\n",
    "\n",
    "# 풀이 2 : sorted하여 마지막 요소 출력\n",
    "# print(sorted(numbers)[-1])\n",
    "\n",
    "# 풀이 3\n",
    "# 1. 변수 초기화\n",
    "max_number = numbers[0]\n",
    "\n",
    "# 2. 반복\n",
    "for number in numbers:\n",
    "    if number > max_number:\n",
    "        max_number = number\n",
    "        \n",
    "print(max_number)"
   ]
  },
  {
   "cell_type": "markdown",
   "metadata": {},
   "source": [
    "## 최솟값 구하기\n",
    "\n",
    "> 주어진 리스트의 요소 중에서 최솟값을 출력하시오.\n",
    "---\n",
    "```\n",
    "[출력 예시]\n",
    "3\n",
    "```"
   ]
  },
  {
   "cell_type": "code",
   "execution_count": 10,
   "metadata": {},
   "outputs": [
    {
     "name": "stdout",
     "output_type": "stream",
     "text": [
      "3\n"
     ]
    }
   ],
   "source": [
    "numbers = [7, 10, 22, 4, 3, 17]\n",
    "\n",
    "# 아래에 코드를 작성하시오.\n",
    "\n",
    "# 풀이 1\n",
    "#print(min(numbers))\n",
    "\n",
    "# 풀이 2\n",
    "# 1. 변수 초기화\n",
    "min_number = numbers[0]\n",
    "\n",
    "# 2. numbers 순회\n",
    "for number in numbers:\n",
    "    # 3. number와 변수 비교\n",
    "    if number < min_number:\n",
    "        # 4. 교체한다\n",
    "        min_number = number\n",
    "\n",
    "print(min_number)"
   ]
  },
  {
   "cell_type": "markdown",
   "metadata": {},
   "source": [
    "## 최댓값과 등장 횟수 구하기\n",
    "\n",
    "> 주어진 리스트의 요소 중에서 최댓값과 등장 횟수를 출력하시오.\n",
    "\n",
    "---\n",
    "\n",
    "```\n",
    "[출력 예시]\n",
    "22 3\n",
    "```"
   ]
  },
  {
   "cell_type": "code",
   "execution_count": 3,
   "metadata": {
    "ExecuteTime": {
     "end_time": "2020-07-20T07:14:08.319167Z",
     "start_time": "2020-07-20T07:14:08.316606Z"
    }
   },
   "outputs": [
    {
     "name": "stdout",
     "output_type": "stream",
     "text": [
      "22 3\n"
     ]
    }
   ],
   "source": [
    "numbers = [7, 10, 22, 7, 22, 22]\n",
    "\n",
    "# 아래에 코드를 작성하시오.\n",
    "\n",
    "# 방법 1\n",
    "# max_number = max(numbers)\n",
    "# print(max_number, numbers.count(max_number))\n",
    "\n",
    "# 방법 2\n",
    "\n",
    "# 1. 변수 초기화\n",
    "max_number = numbers[0]\n",
    "count = 0\n",
    "\n",
    "# 2. number 리스트 순회(반복)\n",
    "for number in numbers:\n",
    "    # 3. 뽑은 숫자가 max_value보다 크면\n",
    "    if number > max_number:\n",
    "        # 4. 교체한다.\n",
    "        max_number = number\n",
    "        count = 1 # 카운트 초기화 (새로운 최댓값으로 변경되었으므로)\n",
    "    # 5. 뽑은 숫자와 max_number가 같으면\n",
    "    elif number == max_number:\n",
    "        # 카운트 증가\n",
    "        count += 1\n",
    "\n",
    "print(max_number, count)"
   ]
  },
  {
   "cell_type": "markdown",
   "metadata": {},
   "source": [
    "## 5의 개수 구하기\n",
    "\n",
    "> 주어진 리스트의 요소 중에서 5의 개수를 출력하시오.\n",
    "---\n",
    "```\n",
    "[출력 예시]\n",
    "3\n",
    "```"
   ]
  },
  {
   "cell_type": "code",
   "execution_count": 16,
   "metadata": {},
   "outputs": [
    {
     "name": "stdout",
     "output_type": "stream",
     "text": [
      "3\n"
     ]
    }
   ],
   "source": [
    "numbers = [7, 17, 10, 5, 4, 3, 17, 5, 2, 5]\n",
    "\n",
    "# 아래에 코드를 작성하시오.\n",
    "\n",
    "# 풀이 1\n",
    "# print(numbers.count(5))\n",
    "\n",
    "# 풀이 2\n",
    "# 1. 변수 초기화\n",
    "count = 0\n",
    "\n",
    "# 2. numbers 리스트 순회 (반복)\n",
    "for number in numbers:\n",
    "    # 3. 뽑은 숫자가 5이면,\n",
    "    if number == 5:\n",
    "        # 4. count에 증가 (1 추가)\n",
    "        count += 1\n",
    "        \n",
    "print(count)"
   ]
  },
  {
   "cell_type": "markdown",
   "metadata": {},
   "source": [
    "## 'a'가 싫어\n",
    "\n",
    "\n",
    "> 입력으로 짧은 영단어 word가 주어질 때, 해당 단어에서 'a'를 모두 제거한 결과를 출력하시오.\n",
    "\n",
    "---\n",
    "```\n",
    "[입력 예시]\n",
    "apple\n",
    "\n",
    "[출력 예시]\n",
    "pple\n",
    "```"
   ]
  },
  {
   "cell_type": "code",
   "execution_count": 5,
   "metadata": {},
   "outputs": [
    {
     "name": "stdout",
     "output_type": "stream",
     "text": [
      "apple\n",
      "pple\n"
     ]
    }
   ],
   "source": [
    "word = input()\n",
    "\n",
    "# 아래에 코드를 작성하시오.\n",
    "\n",
    "# 방법 1\n",
    "#for w in word:\n",
    "#    if w != 'a':\n",
    "#        print(w, end=\"\")\n",
    "        \n",
    "# 방법 2\n",
    "# 1. 변수 초기화 (빈 문자열)\n",
    "result = ''\n",
    "\n",
    "# 2. 문자열 순회\n",
    "for char in word:\n",
    "    # 3. 꺼낸 문자가 'a'가 아니면,\n",
    "    if char != 'a':\n",
    "        # 4. 추가한다.\n",
    "        result += char\n",
    "\n",
    "print(result)"
   ]
  },
  {
   "cell_type": "markdown",
   "metadata": {},
   "source": [
    "## 단어 뒤집기\n",
    "\n",
    "> 입력으로 짧은 영어단어 word가 주어질 때, 해당 단어를 역순으로 뒤집은 결과를 출력하시오.\n",
    "\n",
    "---\n",
    "```\n",
    "[입력 예시]\n",
    "apple\n",
    "\n",
    "[출력 예시]\n",
    "elppa\n",
    "```"
   ]
  },
  {
   "cell_type": "code",
   "execution_count": 7,
   "metadata": {},
   "outputs": [
    {
     "name": "stdout",
     "output_type": "stream",
     "text": [
      "apple\n",
      "\n",
      "a\n",
      "a\n",
      "pa\n",
      "pa\n",
      "ppa\n",
      "ppa\n",
      "lppa\n",
      "lppa\n",
      "elppa\n",
      "elppa\n"
     ]
    }
   ],
   "source": [
    "word = input()\n",
    "\n",
    "# 아래에 코드를 작성하시오.\n",
    "\n",
    "# 방법 1\n",
    "# print(word[::-1])\n",
    "\n",
    "# 방법 2\n",
    "# 1. 변수 초기화\n",
    "result = ''\n",
    "\n",
    "# 2. 문자 순회\n",
    "for char in word:\n",
    "    # 3. 앞에 추가한다.\n",
    "    result = char + result\n",
    "    \n",
    "print(result)"
   ]
  },
  {
   "cell_type": "code",
   "execution_count": null,
   "metadata": {},
   "outputs": [],
   "source": []
  }
 ],
 "metadata": {
  "kernelspec": {
   "display_name": "Python 3",
   "language": "python",
   "name": "python3"
  },
  "language_info": {
   "codemirror_mode": {
    "name": "ipython",
    "version": 3
   },
   "file_extension": ".py",
   "mimetype": "text/x-python",
   "name": "python",
   "nbconvert_exporter": "python",
   "pygments_lexer": "ipython3",
   "version": "3.9.0"
  },
  "toc": {
   "base_numbering": 1,
   "nav_menu": {},
   "number_sections": true,
   "sideBar": true,
   "skip_h1_title": false,
   "title_cell": "Table of Contents",
   "title_sidebar": "Contents",
   "toc_cell": false,
   "toc_position": {},
   "toc_section_display": true,
   "toc_window_display": false
  }
 },
 "nbformat": 4,
 "nbformat_minor": 4
}
