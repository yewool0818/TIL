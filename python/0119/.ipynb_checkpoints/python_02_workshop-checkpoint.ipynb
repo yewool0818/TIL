{
 "cells": [
  {
   "cell_type": "markdown",
   "metadata": {},
   "source": [
    "# Workshop\n",
    "> 데이터 & 제어문"
   ]
  },
  {
   "cell_type": "markdown",
   "metadata": {},
   "source": [
    "## 1. 간단한 N의 약수 (SWEA #1933)\n",
    "\n",
    "> 입력으로 1개의 정수 N이 주어진다. 정수 N의 약수를 오름차순으로 출력하는 프로그램을 작성하시오.\n",
    "\n",
    "---\n",
    "\n",
    "```\n",
    "[제약 사항]\n",
    "N은 1이상 1,000이하의 정수이다. (1 ≤ N ≤ 1,000)\n",
    " \n",
    "[입력 예시]\n",
    "입력으로 정수 N이 주어진다.\n",
    "\n",
    "[출력 예시]\n",
    "정수 N의 모든 약수를 오름차순으로 출력한다.\n",
    "```"
   ]
  },
  {
   "cell_type": "code",
   "execution_count": 2,
   "metadata": {},
   "outputs": [
    {
     "name": "stdout",
     "output_type": "stream",
     "text": [
      "15\n",
      "[1, 3, 5, 15]\n"
     ]
    }
   ],
   "source": [
    "N = int(input())\n",
    "\n",
    "# 아래에 코드를 작성하시오.\n",
    "# 1. 변수 초기화\n",
    "divisor_list = []\n",
    "\n",
    "# 2. 반복\n",
    "for i in range(1, 1001):\n",
    "    # 3. 입력받은 수 N이 i으로 나누어 떨어지면\n",
    "    if N % i == 0:\n",
    "        # 4. i는 N의 약수\n",
    "        divisor_list.append(i)\n",
    "        \n",
    "print(divisor_list)"
   ]
  },
  {
   "cell_type": "code",
   "execution_count": 22,
   "metadata": {},
   "outputs": [
    {
     "name": "stdout",
     "output_type": "stream",
     "text": [
      "1\n",
      "2\n",
      "5\n",
      "10\n"
     ]
    }
   ],
   "source": [
    "# solution\n",
    "\n",
    "N = 10\n",
    "\n",
    "for i in range(1, N+1):\n",
    "    if N % i == 0:\n",
    "        print(i)"
   ]
  },
  {
   "cell_type": "markdown",
   "metadata": {},
   "source": [
    "## 2. 중간값 찾기 (SWEA #2063 변형)\n",
    "\n",
    "> 중간값은 통계 집단의 수치를 크기 순으로 배열 했을 때 전체의 중앙에 위치하는 수치를 뜻한다. 리스트 numbers에 입력된 숫자에서 중간값을 출력하라.\n",
    "\n",
    "---\n",
    "```python\n",
    "[출력 예시]\n",
    "64\n",
    "```"
   ]
  },
  {
   "cell_type": "code",
   "execution_count": 29,
   "metadata": {},
   "outputs": [
    {
     "name": "stdout",
     "output_type": "stream",
     "text": [
      "64\n"
     ]
    }
   ],
   "source": [
    "numbers = [\n",
    "    85, 72, 38, 80, 69, 65, 68, 96, 22, 49, 67,\n",
    "    51, 61, 63, 87, 66, 24, 80, 83, 71, 60, 64, \n",
    "    52, 90, 60, 49, 31, 23, 99, 94, 11, 25, 24\n",
    "]\n",
    "\n",
    "## 조건\n",
    "# 1) numbers 개수가 홀수일 때 : 전체 길이를 2로 나눈 몫에 해당하는 인덱스\n",
    "# 2) numbers 개수가 짝수일 때 : 전체 길이를 2로 나눈 값에 해당하는 인덱스\n",
    "\n",
    "# 1-1. 길이 직접 찾기\n",
    "length = 0\n",
    "for _ in numbers:\n",
    "    length += 1\n",
    "  \n",
    "# 1-2. 가운데 인덱스 찾기\n",
    "center_index =length // 2\n",
    "\n",
    "# 2. 정렬하기\n",
    "sorted_numbers = sorted(numbers) #sorted(list) - 정렬된 값 반환\n",
    "\n",
    "# 3. 정렬된 숫자 리스트에서 가운데 인덱스 요소 찾기\n",
    "print(sorted_numbers[center_index])"
   ]
  },
  {
   "cell_type": "code",
   "execution_count": null,
   "metadata": {},
   "outputs": [],
   "source": []
  },
  {
   "cell_type": "code",
   "execution_count": 12,
   "metadata": {},
   "outputs": [
    {
     "ename": "TypeError",
     "evalue": "list indices must be integers or slices, not float",
     "output_type": "error",
     "traceback": [
      "\u001b[1;31m---------------------------------------------------------------------------\u001b[0m",
      "\u001b[1;31mTypeError\u001b[0m                                 Traceback (most recent call last)",
      "\u001b[1;32m<ipython-input-12-e55cd25a131f>\u001b[0m in \u001b[0;36m<module>\u001b[1;34m\u001b[0m\n\u001b[0;32m     17\u001b[0m \u001b[1;33m\u001b[0m\u001b[0m\n\u001b[0;32m     18\u001b[0m \u001b[1;32mif\u001b[0m \u001b[0mmiddle_index\u001b[0m \u001b[1;33m%\u001b[0m \u001b[1;36m2\u001b[0m\u001b[1;33m:\u001b[0m\u001b[1;33m\u001b[0m\u001b[1;33m\u001b[0m\u001b[0m\n\u001b[1;32m---> 19\u001b[1;33m     \u001b[0mprint\u001b[0m\u001b[1;33m(\u001b[0m\u001b[0mnumbers\u001b[0m\u001b[1;33m[\u001b[0m\u001b[0mmiddle_index\u001b[0m\u001b[1;33m]\u001b[0m\u001b[1;33m)\u001b[0m\u001b[1;33m\u001b[0m\u001b[1;33m\u001b[0m\u001b[0m\n\u001b[0m\u001b[0;32m     20\u001b[0m \u001b[1;32melse\u001b[0m\u001b[1;33m:\u001b[0m\u001b[1;33m\u001b[0m\u001b[1;33m\u001b[0m\u001b[0m\n\u001b[0;32m     21\u001b[0m     \u001b[0mprint\u001b[0m\u001b[1;33m(\u001b[0m\u001b[0mnumbers\u001b[0m\u001b[1;33m[\u001b[0m\u001b[0mint\u001b[0m\u001b[1;33m(\u001b[0m\u001b[0mmiddle_index\u001b[0m\u001b[1;33m)\u001b[0m\u001b[1;33m]\u001b[0m\u001b[1;33m)\u001b[0m\u001b[1;33m\u001b[0m\u001b[1;33m\u001b[0m\u001b[0m\n",
      "\u001b[1;31mTypeError\u001b[0m: list indices must be integers or slices, not float"
     ]
    }
   ],
   "source": [
    "numbers = [\n",
    "    85, 72, 38, 80, 69, 65, 68, 96, 22, 49, 67,\n",
    "    51, 61, 63, 87, 66, 24, 80, 83, 71, 60, 64, \n",
    "    52, 90, 60, 49, 31, 23, 99, 94, 11, 25, 24\n",
    "]\n",
    "\n",
    "# 아래에 코드를 작성하시오.\n",
    "\n",
    "# 1. 변수 초기화\n",
    "sorted_number = []\n",
    "\n",
    "# 2. 정렬하기 - .sort()는 리스트 자체에 정렬하여 정리\n",
    "numbers.sort()\n",
    "\n",
    "# 3. 리스트 전체 크기에서 반인 가운데의 인덱스의 값 찾기)\n",
    "middle_index = len(numbers) / 2\n",
    "\n",
    "if middle_index % 2:\n",
    "    print(numbers[middle_index])\n",
    "else:\n",
    "    print(numbers[int(middle_index)])"
   ]
  },
  {
   "cell_type": "markdown",
   "metadata": {},
   "source": [
    "## 3. 계단 만들기\n",
    "\n",
    "> 자연수 number를 입력 받아, 아래와 같이 높이가 number인 내려가는 계단을 출력하시오.\n",
    "\n",
    "---\n",
    "```\n",
    "[입력 예시]\n",
    "4\n",
    "\n",
    "[출력 예시]\n",
    "1\n",
    "1 2\n",
    "1 2 3\n",
    "1 2 3 4\n",
    "```"
   ]
  },
  {
   "cell_type": "code",
   "execution_count": 19,
   "metadata": {},
   "outputs": [
    {
     "name": "stdout",
     "output_type": "stream",
     "text": [
      "4\n",
      "\n",
      "1 \n",
      "1 2 \n",
      "1 2 3 \n",
      "1 2 3 4 "
     ]
    }
   ],
   "source": [
    "    number = int(input())\n",
    "\n",
    "    # 아래에 코드를 작성하시오.\n",
    "\n",
    "    for i in range(number):\n",
    "        print(\"\")\n",
    "        for j in range(1, i+2):\n",
    "            print(j, end=\" \")\n"
   ]
  },
  {
   "cell_type": "code",
   "execution_count": null,
   "metadata": {},
   "outputs": [],
   "source": []
  }
 ],
 "metadata": {
  "kernelspec": {
   "display_name": "Python 3",
   "language": "python",
   "name": "python3"
  },
  "language_info": {
   "codemirror_mode": {
    "name": "ipython",
    "version": 3
   },
   "file_extension": ".py",
   "mimetype": "text/x-python",
   "name": "python",
   "nbconvert_exporter": "python",
   "pygments_lexer": "ipython3",
   "version": "3.9.0"
  },
  "toc": {
   "base_numbering": 1,
   "nav_menu": {},
   "number_sections": true,
   "sideBar": true,
   "skip_h1_title": false,
   "title_cell": "Table of Contents",
   "title_sidebar": "Contents",
   "toc_cell": false,
   "toc_position": {},
   "toc_section_display": true,
   "toc_window_display": false
  }
 },
 "nbformat": 4,
 "nbformat_minor": 4
}
