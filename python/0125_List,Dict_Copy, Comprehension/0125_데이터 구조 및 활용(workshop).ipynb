{
 "cells": [
  {
   "cell_type": "markdown",
   "id": "relative-uncle",
   "metadata": {},
   "source": [
    "**공부 내용**\n",
    "- 데이터 구조\n",
    "- 메서드"
   ]
  },
  {
   "cell_type": "markdown",
   "id": "surgical-electron",
   "metadata": {},
   "source": [
    "**목표**\n",
    "- 데이터 구조의 특징에 대한 이해\n",
    "- 데이터 구조 별 메서드 활용에 대한 이해"
   ]
  },
  {
   "cell_type": "markdown",
   "id": "angry-timeline",
   "metadata": {},
   "source": [
    "### 평균 점수 구하기"
   ]
  },
  {
   "cell_type": "markdown",
   "id": "touched-third",
   "metadata": {},
   "source": [
    "key 값으로 과목명, value 값으로 점수를 가지는 dictionary를 전달 받아,<br> 전체 과목의\n",
    "평균 점수를 반환하는 함수 get_dict_avg 함수를 작성하시오"
   ]
  },
  {
   "cell_type": "code",
   "execution_count": 8,
   "id": "spectacular-shell",
   "metadata": {},
   "outputs": [],
   "source": [
    "def get_dict_avg(scores):\n",
    "    \n",
    "    # 1. 총 점수 및 과목 수 반환받을 변수 초기화\n",
    "    total_score = 0\n",
    "    total_class = 0\n",
    "    \n",
    "    # 2. scores 딕셔너리 반복\n",
    "    for score in scores: # scores 딕셔너리의 key값이 반복됨\n",
    "        total_score += scores.get(score)\n",
    "        total_class += 1\n",
    "    \n",
    "    # 3. 총 점수를 총 과목 수로 나눈 평균 값 반환\n",
    "    return total_score/total_class"
   ]
  },
  {
   "cell_type": "code",
   "execution_count": 9,
   "id": "similar-brunei",
   "metadata": {},
   "outputs": [
    {
     "data": {
      "text/plain": [
       "85.5"
      ]
     },
     "execution_count": 9,
     "metadata": {},
     "output_type": "execute_result"
    }
   ],
   "source": [
    "scores = {\n",
    "    'python' : 80,\n",
    "    'algorithm' : 90,\n",
    "    'django' : 89,\n",
    "    'web' : 83\n",
    "}\n",
    "\n",
    "get_dict_avg(scores)"
   ]
  },
  {
   "cell_type": "markdown",
   "id": "present-despite",
   "metadata": {},
   "source": [
    "### 혈액형 분류하기"
   ]
  },
  {
   "cell_type": "markdown",
   "id": "further-prisoner",
   "metadata": {},
   "source": [
    "여러 사람의 혈액형(A, B, AB, O)에 대한 정보가 담긴 list를 전달 받아,<br> key는 혈액형의\n",
    "종류, value는 사람 수인 dictionary를 반환하는 count_blood 함수를 작성하시오"
   ]
  },
  {
   "cell_type": "code",
   "execution_count": 12,
   "id": "accessory-morgan",
   "metadata": {},
   "outputs": [],
   "source": [
    "def count_blood(blood_types):\n",
    "    # 리턴할 딕셔너리 초기화\n",
    "    count_blood = {}\n",
    "    \n",
    "    # blood_types을 반복\n",
    "    for blood_type in blood_types:\n",
    "        # count_blood 딕셔너리에 해당 key값에 해당하는 요소 추가\n",
    "        # 기존에 딕셔너리에 key값이 있으면, 기존 value + 1하여 count\n",
    "        # 없으면 0으로 반환하여 +1하여 count\n",
    "        count_blood[blood_type] = count_blood.get(blood_type, 0) + 1\n",
    "        \n",
    "    # 혈액형 별 사람 수를 담은 딕셔너리 반환\n",
    "    return count_blood"
   ]
  },
  {
   "cell_type": "code",
   "execution_count": 5,
   "id": "destroyed-fiber",
   "metadata": {},
   "outputs": [],
   "source": [
    "# solution\n",
    "\n",
    "def count_blood(blood_list):\n",
    "    # 1. 결과값 변수 초기화\n",
    "    blood_dict = {}\n",
    "    \n",
    "    # 2. blood_list 순회\n",
    "        \n",
    "    # 2-1. \n",
    "#     for blood in blood_list:\n",
    "#         # 혈액형 정보가 존재하면\n",
    "#         if blood_dict.get(blood): # key값이 blood에 해당하는 value가 있는지 물어봄 - 없으면 0(False), 있으면 value(True)로 반환됨\n",
    "#             blood_dict[blood] += 1 # 1 더하기\n",
    "#         # 혈액형 정보가 없으면\n",
    "#         else:\n",
    "#             blood_dict[blood] = 1  # 1로 초기화\n",
    "            \n",
    "\n",
    "    # 2-2. [optional]\n",
    "    for blood in blood_list:\n",
    "        # 혈액형 정보가 존재하면 -> 0이 아님 -> 기존값 + 1\n",
    "        # 혈액형 정보가 없으면 -> 0 -> 0 + 1 (1로 초기화)\n",
    "        blood_dict[blood] = blood_dict.get(blood, 0) + 1\n",
    "        \n",
    "        \n",
    "    return blood_dict"
   ]
  },
  {
   "cell_type": "code",
   "execution_count": 6,
   "id": "confirmed-default",
   "metadata": {},
   "outputs": [
    {
     "data": {
      "text/plain": [
       "{'A': 3, 'B': 3, 'O': 3, 'AB': 3}"
      ]
     },
     "execution_count": 6,
     "metadata": {},
     "output_type": "execute_result"
    }
   ],
   "source": [
    "blood_types = ['A', 'B', 'A', 'O', 'AB', 'AB',\n",
    "               'O', 'A', 'B', 'O', 'B', 'AB']\n",
    "\n",
    "count_blood(blood_types)"
   ]
  },
  {
   "cell_type": "code",
   "execution_count": null,
   "id": "cooked-worker",
   "metadata": {},
   "outputs": [],
   "source": []
  }
 ],
 "metadata": {
  "kernelspec": {
   "display_name": "Python 3",
   "language": "python",
   "name": "python3"
  },
  "language_info": {
   "codemirror_mode": {
    "name": "ipython",
    "version": 3
   },
   "file_extension": ".py",
   "mimetype": "text/x-python",
   "name": "python",
   "nbconvert_exporter": "python",
   "pygments_lexer": "ipython3",
   "version": "3.8.7"
  },
  "toc": {
   "base_numbering": 1,
   "nav_menu": {},
   "number_sections": true,
   "sideBar": true,
   "skip_h1_title": false,
   "title_cell": "Table of Contents",
   "title_sidebar": "Contents",
   "toc_cell": false,
   "toc_position": {},
   "toc_section_display": true,
   "toc_window_display": false
  },
  "varInspector": {
   "cols": {
    "lenName": 16,
    "lenType": 16,
    "lenVar": 40
   },
   "kernels_config": {
    "python": {
     "delete_cmd_postfix": "",
     "delete_cmd_prefix": "del ",
     "library": "var_list.py",
     "varRefreshCmd": "print(var_dic_list())"
    },
    "r": {
     "delete_cmd_postfix": ") ",
     "delete_cmd_prefix": "rm(",
     "library": "var_list.r",
     "varRefreshCmd": "cat(var_dic_list()) "
    }
   },
   "types_to_exclude": [
    "module",
    "function",
    "builtin_function_or_method",
    "instance",
    "_Feature"
   ],
   "window_display": false
  }
 },
 "nbformat": 4,
 "nbformat_minor": 5
}
