{
 "cells": [
  {
   "cell_type": "markdown",
   "id": "former-preparation",
   "metadata": {},
   "source": [
    "**학습해야 할 내용**\n",
    "- 데이터 구조\n",
    "- 메서드"
   ]
  },
  {
   "cell_type": "markdown",
   "id": "temporal-monday",
   "metadata": {},
   "source": [
    "### 모음은 몇 개나 있을까?"
   ]
  },
  {
   "cell_type": "markdown",
   "id": "laughing-desire",
   "metadata": {},
   "source": [
    "문자열을 전달 받아 해당 문자열의 모음 갯수를 반환하는 count_vowels 함수를\n",
    "작성하시오. <br>단, .count() 메서드를 활용하여 작성하시오."
   ]
  },
  {
   "cell_type": "code",
   "execution_count": 5,
   "id": "universal-liberal",
   "metadata": {},
   "outputs": [],
   "source": [
    "def count_vowels(word):\n",
    "    \n",
    "    # 모음 알파벳이 담긴 리스트\n",
    "    vowels = ['a', 'i', 'e', 'o', 'u']\n",
    "    \n",
    "    # count()를 활용하여 모음 개수 세기\n",
    "    \n",
    "    # 1. 총 모음 수의 합을 담을 변수 초기화\n",
    "    total = 0\n",
    "    \n",
    "    # 2. 모음리스트를 돌며 반복\n",
    "    for vowel in vowels:\n",
    "        # 3. word에 해당 모음의 개수 세서 total에 더하기\n",
    "        total += word.count(vowel)\n",
    "        \n",
    "    # 4. 반환\n",
    "    return total"
   ]
  },
  {
   "cell_type": "code",
   "execution_count": 6,
   "id": "nasty-review",
   "metadata": {},
   "outputs": [
    {
     "name": "stdout",
     "output_type": "stream",
     "text": [
      "2\n",
      "3\n"
     ]
    }
   ],
   "source": [
    "print(count_vowels('apple'))\n",
    "print(count_vowels('banana'))"
   ]
  },
  {
   "cell_type": "markdown",
   "id": "breeding-breast",
   "metadata": {},
   "source": [
    "### 문자열 조작"
   ]
  },
  {
   "cell_type": "markdown",
   "id": "light-machinery",
   "metadata": {},
   "source": [
    "다음 중, 문자열(string)을 조작하는 방법으로 옳지 않은 것을 고르시오."
   ]
  },
  {
   "cell_type": "markdown",
   "id": "formed-opportunity",
   "metadata": {},
   "source": [
    "- (1) .find(x)는 x의 첫번째 위치를 반환한다. 없으면 -1을 반환한다.\n",
    "- (2) .split([chars])은 특정 문자를 지정하면 문자열을 특정 문자를기준으로 나누어 list로 반환한다. 특정 문자를 지정하지 않으면공백을 기준으로 나눈다.\n",
    "- (3) .replace(old, new[, count])는 바꿀 대상 문자를 새로운 문자로바꿔서 반환한다.\n",
    "- (4) .strip([chars])은 특정 문자를 지정하면, 양쪽에서 해당 문자를찾아 제거한다. 특정 문자를 지정하지 않으면 오류가 발생한다."
   ]
  },
  {
   "cell_type": "code",
   "execution_count": 8,
   "id": "color-affect",
   "metadata": {},
   "outputs": [
    {
     "name": "stdout",
     "output_type": "stream",
     "text": [
      "0\n",
      "1\n",
      "-1\n"
     ]
    }
   ],
   "source": [
    "# (1)\n",
    "string = 'apple'\n",
    "print(string.find('a')) # 0\n",
    "print(string.find('p')) # 1\n",
    "print(string.find('c')) # -1"
   ]
  },
  {
   "cell_type": "code",
   "execution_count": 11,
   "id": "careful-range",
   "metadata": {},
   "outputs": [
    {
     "name": "stdout",
     "output_type": "stream",
     "text": [
      "['apple', ' orange']\n",
      "['apple,', 'orange']\n"
     ]
    }
   ],
   "source": [
    "# (2)\n",
    "string = 'apple, orange'\n",
    "\n",
    "print(string.split(',')) # ['apple', ' orange']\n",
    "print(string.split())    # ['apple,', ' orange'] - 공백으로 나눠짐"
   ]
  },
  {
   "cell_type": "code",
   "execution_count": 19,
   "id": "handy-arthur",
   "metadata": {},
   "outputs": [
    {
     "name": "stdout",
     "output_type": "stream",
     "text": [
      "Milk\n",
      "milk\n"
     ]
    }
   ],
   "source": [
    "# (3) \n",
    "string = 'milk'\n",
    "string_replaced = string.replace('m', 'M')\n",
    "\n",
    "print(string_replaced) # Milk - 바꾼 후 새로 바뀐 문자열을 반환함\n",
    "print(string)          # milk - 기존 문자열 자체는 바뀌지 않음"
   ]
  },
  {
   "cell_type": "code",
   "execution_count": 20,
   "id": "parallel-clinic",
   "metadata": {},
   "outputs": [
    {
     "name": "stdout",
     "output_type": "stream",
     "text": [
      "doyo\n",
      "doyou\n"
     ]
    }
   ],
   "source": [
    "# (4) -- 정답 ! \n",
    "string1 = 'doyou'\n",
    "string2 = '  doyou  '\n",
    "\n",
    "print(string1.strip('u'))  # doyo\n",
    "print(string2.strip())     # 아무 것도 지정하지 않으면 양쪽 공백 제거됨"
   ]
  },
  {
   "cell_type": "markdown",
   "id": "annoying-analyst",
   "metadata": {},
   "source": [
    "### 정사각형만 만들기"
   ]
  },
  {
   "cell_type": "markdown",
   "id": "hungry-found",
   "metadata": {},
   "source": [
    "각각 너비와 높이의 값으로 이루어진 2개의 list를 전달 받아, <br>각각의 값들을 조합하여\n",
    "만들 수 있는 정사각형만의 넓이를 담은 list를 반환하는 <br>only_square_area 함수를\n",
    "작성하시오."
   ]
  },
  {
   "cell_type": "code",
   "execution_count": 28,
   "id": "innocent-illinois",
   "metadata": {},
   "outputs": [],
   "source": [
    "def only_square_area(widths, heights):\n",
    "    \n",
    "    # for문 방법\n",
    "#     result = []\n",
    "    \n",
    "#     for width in widths:\n",
    "#         for height in heights:\n",
    "#             if width == height:\n",
    "#                 result.append(width**2)\n",
    "                \n",
    "    # list comprehension 방법\n",
    "    result = [width*height for width in widths\n",
    "                 for height in heights\n",
    "                     if width == height]\n",
    "                \n",
    "    return result"
   ]
  },
  {
   "cell_type": "code",
   "execution_count": 29,
   "id": "romantic-japanese",
   "metadata": {},
   "outputs": [
    {
     "data": {
      "text/plain": [
       "[1024, 3025]"
      ]
     },
     "execution_count": 29,
     "metadata": {},
     "output_type": "execute_result"
    }
   ],
   "source": [
    "widths = [32, 55, 63]\n",
    "heights = [13, 32, 40, 55]\n",
    "\n",
    "only_square_area(widths, heights)"
   ]
  },
  {
   "cell_type": "code",
   "execution_count": null,
   "id": "compressed-diesel",
   "metadata": {},
   "outputs": [],
   "source": []
  }
 ],
 "metadata": {
  "kernelspec": {
   "display_name": "Python 3",
   "language": "python",
   "name": "python3"
  },
  "language_info": {
   "codemirror_mode": {
    "name": "ipython",
    "version": 3
   },
   "file_extension": ".py",
   "mimetype": "text/x-python",
   "name": "python",
   "nbconvert_exporter": "python",
   "pygments_lexer": "ipython3",
   "version": "3.8.7"
  },
  "toc": {
   "base_numbering": 1,
   "nav_menu": {},
   "number_sections": true,
   "sideBar": true,
   "skip_h1_title": false,
   "title_cell": "Table of Contents",
   "title_sidebar": "Contents",
   "toc_cell": false,
   "toc_position": {},
   "toc_section_display": true,
   "toc_window_display": false
  },
  "varInspector": {
   "cols": {
    "lenName": 16,
    "lenType": 16,
    "lenVar": 40
   },
   "kernels_config": {
    "python": {
     "delete_cmd_postfix": "",
     "delete_cmd_prefix": "del ",
     "library": "var_list.py",
     "varRefreshCmd": "print(var_dic_list())"
    },
    "r": {
     "delete_cmd_postfix": ") ",
     "delete_cmd_prefix": "rm(",
     "library": "var_list.r",
     "varRefreshCmd": "cat(var_dic_list()) "
    }
   },
   "types_to_exclude": [
    "module",
    "function",
    "builtin_function_or_method",
    "instance",
    "_Feature"
   ],
   "window_display": false
  }
 },
 "nbformat": 4,
 "nbformat_minor": 5
}
