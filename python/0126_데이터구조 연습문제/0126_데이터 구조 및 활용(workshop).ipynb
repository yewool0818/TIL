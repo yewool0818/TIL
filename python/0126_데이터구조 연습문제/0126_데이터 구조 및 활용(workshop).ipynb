{
 "cells": [
  {
   "cell_type": "markdown",
   "id": "single-riding",
   "metadata": {},
   "source": [
    "**공부 내용**\n",
    "- 데이터 구조\n",
    "- 메서드"
   ]
  },
  {
   "cell_type": "markdown",
   "id": "variable-seating",
   "metadata": {},
   "source": [
    "**목표**\n",
    "- 데이터 구조의 특징에 대한 이해\n",
    "- 데이터 구조 별 메서드 활용에 대한 이해"
   ]
  },
  {
   "cell_type": "markdown",
   "id": "further-harvey",
   "metadata": {},
   "source": [
    "## 무엇이 중복일까"
   ]
  },
  {
   "cell_type": "markdown",
   "id": "legal-sunrise",
   "metadata": {},
   "source": [
    "문자열을 전달 받아<br>\n",
    "해당 문자열에서 중복해서 나타난 문자들을 담은 list를 반환하는<br>\n",
    "**duplicated_letters** 함수를 작성하시오."
   ]
  },
  {
   "cell_type": "markdown",
   "id": "executed-robinson",
   "metadata": {},
   "source": [
    "### 나의 답"
   ]
  },
  {
   "cell_type": "code",
   "execution_count": 25,
   "id": "prescription-topic",
   "metadata": {},
   "outputs": [],
   "source": [
    "def duplicated_letters(word):\n",
    "    \n",
    "    # 중복 문자를 넣을 리스트 초기화\n",
    "    duplicated_letters = []\n",
    "    \n",
    "    # 입력된 word 순회\n",
    "    for char in word:\n",
    "        # word내에 char가 1개 초과로 있다면, \n",
    "        if word.count(char) > 1:\n",
    "            duplicated_letters.append(char)\n",
    "            \n",
    "    # 중복 문자 반환 \n",
    "    # 중복 문자기 때문에 2개 이상의 값을 가지고있어 set()을 통해 중복 제거 후, list로 변환해준다.\n",
    "    return list(set(duplicated_letters))"
   ]
  },
  {
   "cell_type": "code",
   "execution_count": 26,
   "id": "handled-acting",
   "metadata": {},
   "outputs": [
    {
     "name": "stdout",
     "output_type": "stream",
     "text": [
      "['p']\n",
      "['a', 'n']\n"
     ]
    }
   ],
   "source": [
    "print(duplicated_letters('apple'))\n",
    "print(duplicated_letters('banana'))"
   ]
  },
  {
   "cell_type": "markdown",
   "id": "tight-password",
   "metadata": {},
   "source": [
    "### 🤸‍♂️ Solution"
   ]
  },
  {
   "cell_type": "code",
   "execution_count": 5,
   "id": "fossil-implement",
   "metadata": {},
   "outputs": [],
   "source": [
    "def duplicated_letters(word):\n",
    "    duplicates = []\n",
    "    \n",
    "    for char in word:\n",
    "        # 문자가 두 번 이상 나오고 + 중복 문자 리스트에 들어있지 않으면\n",
    "        if (word.count(char) > 1) and (char not in duplicates):\n",
    "            duplicates.append(char)\n",
    "    \n",
    "    return duplicates"
   ]
  },
  {
   "cell_type": "code",
   "execution_count": 6,
   "id": "historical-celtic",
   "metadata": {},
   "outputs": [
    {
     "name": "stdout",
     "output_type": "stream",
     "text": [
      "['p']\n",
      "['a', 'n']\n"
     ]
    }
   ],
   "source": [
    "print(duplicated_letters('apple'))\n",
    "print(duplicated_letters('banana'))"
   ]
  },
  {
   "cell_type": "markdown",
   "id": "yellow-friend",
   "metadata": {},
   "source": [
    "## 소대소대"
   ]
  },
  {
   "cell_type": "markdown",
   "id": "collectible-detection",
   "metadata": {},
   "source": [
    "문자열을 전달 받아 <br>\n",
    "해당 문자열을 소문자와 대문자가 번갈아 나타나도록 변환하여 반환하는 <br>**low_and_up** 함수를 작성하시오. <br>\n",
    "\n",
    "이때, 전달 받는 문자열은 알파벳으로만 구성된다."
   ]
  },
  {
   "cell_type": "markdown",
   "id": "enhanced-affiliation",
   "metadata": {},
   "source": [
    "### 나의 답"
   ]
  },
  {
   "cell_type": "code",
   "execution_count": 35,
   "id": "capable-protein",
   "metadata": {},
   "outputs": [],
   "source": [
    "def low_and_up(word):\n",
    "    \n",
    "    # 소문자->대문자->소문자->..\n",
    "    \n",
    "    # 0. 출렁출렁하게 반환해줄 문자열 초기화\n",
    "    result = ''\n",
    "    \n",
    "    # 1. word 반복 - index와 요소 둘 다 꺼내오기\n",
    "    for idx, char in enumerate(word):\n",
    "        # 2-1. 짝수 인덱스면 대문자로 변환\n",
    "        if idx % 2:\n",
    "            char = char.upper()\n",
    "        # 2-2. 홀수 인덱스면 그대로 두기 - 모든 문자가 소문자로 input된다는 가정하에!\n",
    "\n",
    "        # 3. 변환된 or 그대로인 char를 result에 차례대로 더해주기\n",
    "        result += char\n",
    "    \n",
    "    # 4. 변환해준 문자열 반환\n",
    "    return result"
   ]
  },
  {
   "cell_type": "code",
   "execution_count": 7,
   "id": "contrary-phenomenon",
   "metadata": {},
   "outputs": [],
   "source": [
    "# 주석 없는 코드\n",
    "def low_and_up(word):\n",
    "    \n",
    "    result = ''\n",
    "    \n",
    "    for idx, char in enumerate(word):\n",
    "        if idx % 2:\n",
    "            char = char.upper()\n",
    "            \n",
    "        result += char\n",
    "\n",
    "    return result"
   ]
  },
  {
   "cell_type": "code",
   "execution_count": 8,
   "id": "terminal-recycling",
   "metadata": {},
   "outputs": [
    {
     "name": "stdout",
     "output_type": "stream",
     "text": [
      "aPpLe\n",
      "bAnAnA\n"
     ]
    }
   ],
   "source": [
    "print(low_and_up('apple'))\n",
    "print(low_and_up('banana'))"
   ]
  },
  {
   "cell_type": "markdown",
   "id": "specific-flexibility",
   "metadata": {},
   "source": [
    "### 🤸‍♂️ Solution\n",
    "- 나의 코드와 다른점 <br>\n",
    ": 짝수 인덱스일 경우 소문자로 변환해주었다.<br>\n",
    "내 코드가 더 짧긴하지만, 교수님이 풀어주신 코드의 경우 소문자문자열이 아닌 소문자+대문자 섞인 문자열 혹은 대문자만 있는 문자열이 아규먼트값으로 들어올때도 적용 가능하기에 더 좋은 코드인 것 같다."
   ]
  },
  {
   "cell_type": "code",
   "execution_count": 11,
   "id": "seeing-dollar",
   "metadata": {},
   "outputs": [],
   "source": [
    "def low_and_up(word):\n",
    "    new_str = ''\n",
    "    \n",
    "    for idx, char in enumerate(word):\n",
    "        # 홀수면 대문자 (나머지 있으면)\n",
    "        if idx % 2:\n",
    "            new_str += char.upper()\n",
    "        # 짝수면 소문자 (나머지 없으면)\n",
    "        else:\n",
    "            new_str += char.lower()\n",
    "            \n",
    "    return new_str"
   ]
  },
  {
   "cell_type": "code",
   "execution_count": 12,
   "id": "registered-corrections",
   "metadata": {},
   "outputs": [
    {
     "name": "stdout",
     "output_type": "stream",
     "text": [
      "aPpLe\n",
      "bAnAnA\n"
     ]
    }
   ],
   "source": [
    "print(low_and_up('apple'))\n",
    "print(low_and_up('banana'))"
   ]
  },
  {
   "cell_type": "markdown",
   "id": "together-samba",
   "metadata": {},
   "source": [
    "## 숫자의 의미"
   ]
  },
  {
   "cell_type": "markdown",
   "id": "assigned-timothy",
   "metadata": {},
   "source": [
    "정수 0부터 9까지로 이루어진 list를 전달 받아,<br>연속적으로 나타나는 숫자는 하나만 남 기고 제거한 list를 반환하는<br>**lonely** 함수를 작성하시오.<br>\n",
    "\n",
    " 이때, 제거된 후 남은 수들이 담 긴 list의 요소들은 기존의 순서를 유지해야 한다."
   ]
  },
  {
   "cell_type": "markdown",
   "id": "intense-anime",
   "metadata": {},
   "source": [
    "### 나의 답"
   ]
  },
  {
   "cell_type": "code",
   "execution_count": 1,
   "id": "instrumental-notebook",
   "metadata": {},
   "outputs": [],
   "source": [
    "def lonely(numbers):\n",
    "    \n",
    "    single_list = []\n",
    "    \n",
    "    # numbers 반복\n",
    "    # - 맨 마지막 리스트 요소는 i+1가 없기 때문에 그 전까지만 반복한다.\n",
    "    for i in range(0, len(numbers)-1):\n",
    "        # 현재 값과 다음 값이 같지 않은 경우\n",
    "        if numbers[i] != numbers[i+1]:\n",
    "            single_list.append(numbers[i]) # single_list에 추가해준다.\n",
    "            \n",
    "    single_list.append(numbers[-1]) # numbers의 마지막 요소도 추가해준다.\n",
    "    \n",
    "    return single_list\n",
    "    "
   ]
  },
  {
   "cell_type": "code",
   "execution_count": 2,
   "id": "finite-magic",
   "metadata": {},
   "outputs": [
    {
     "name": "stdout",
     "output_type": "stream",
     "text": [
      "[1, 3, 0, 1]\n",
      "[4, 3]\n"
     ]
    }
   ],
   "source": [
    "print(lonely([1, 1, 3, 3, 0, 1, 1]))\n",
    "print(lonely([4, 4, 4, 3, 3]))"
   ]
  },
  {
   "cell_type": "markdown",
   "id": "surprised-deadline",
   "metadata": {},
   "source": [
    "### 🤸‍♂️ Solution\n",
    "- 나의 코드와 다른 점<br>\n",
    "1. 나는 반복문에서 현재값과 다음값을 비교했는데, 교수님은 직전값과 현재값을 비교하였다.\n",
    ">그래서 내 코드에서는 마지막 값을 무조건 넣어줬는데, 교수님은 첫 번째 값을 무조건 넣어주었다.\n",
    "2. enumerate 반복을 통해 인덱스와 값 둘 다 추출했다."
   ]
  },
  {
   "cell_type": "code",
   "execution_count": 13,
   "id": "spoken-eugene",
   "metadata": {},
   "outputs": [],
   "source": [
    "def lonely(numbers):\n",
    "    \n",
    "    result = []\n",
    "    \n",
    "    for idx, number in enumerate(numbers):\n",
    "        # 첫 번째 숫자는 일단 넣음 -> 비교대상으로 선정 / 어차피 솔로임\n",
    "        if idx == 0:\n",
    "            result.append(number)\n",
    "        \n",
    "        # result[-1] : 직전의 숫자, number : 현재 숫자\n",
    "        # 직전에 넣은 숫자와 지금 뽑은 숫자가 많이 다르다면 솔로!\n",
    "        # 같으면 커플리기 때문에 그냥 pass\n",
    "        if result[-1] != number:\n",
    "            result.append(number)\n",
    "            \n",
    "    return result"
   ]
  },
  {
   "cell_type": "code",
   "execution_count": 14,
   "id": "heated-asbestos",
   "metadata": {},
   "outputs": [
    {
     "name": "stdout",
     "output_type": "stream",
     "text": [
      "[1, 3, 0, 1]\n",
      "[4, 3]\n"
     ]
    }
   ],
   "source": [
    "print(lonely([1, 1, 3, 3, 0, 1, 1]))\n",
    "print(lonely([4, 4, 4, 3, 3]))"
   ]
  },
  {
   "cell_type": "code",
   "execution_count": null,
   "id": "continental-performance",
   "metadata": {},
   "outputs": [],
   "source": []
  }
 ],
 "metadata": {
  "kernelspec": {
   "display_name": "Python 3",
   "language": "python",
   "name": "python3"
  },
  "language_info": {
   "codemirror_mode": {
    "name": "ipython",
    "version": 3
   },
   "file_extension": ".py",
   "mimetype": "text/x-python",
   "name": "python",
   "nbconvert_exporter": "python",
   "pygments_lexer": "ipython3",
   "version": "3.8.7"
  },
  "toc": {
   "base_numbering": 1,
   "nav_menu": {},
   "number_sections": true,
   "sideBar": true,
   "skip_h1_title": false,
   "title_cell": "Table of Contents",
   "title_sidebar": "Contents",
   "toc_cell": false,
   "toc_position": {},
   "toc_section_display": true,
   "toc_window_display": false
  },
  "toc-autonumbering": true,
  "varInspector": {
   "cols": {
    "lenName": 16,
    "lenType": 16,
    "lenVar": 40
   },
   "kernels_config": {
    "python": {
     "delete_cmd_postfix": "",
     "delete_cmd_prefix": "del ",
     "library": "var_list.py",
     "varRefreshCmd": "print(var_dic_list())"
    },
    "r": {
     "delete_cmd_postfix": ") ",
     "delete_cmd_prefix": "rm(",
     "library": "var_list.r",
     "varRefreshCmd": "cat(var_dic_list()) "
    }
   },
   "types_to_exclude": [
    "module",
    "function",
    "builtin_function_or_method",
    "instance",
    "_Feature"
   ],
   "window_display": false
  }
 },
 "nbformat": 4,
 "nbformat_minor": 5
}
