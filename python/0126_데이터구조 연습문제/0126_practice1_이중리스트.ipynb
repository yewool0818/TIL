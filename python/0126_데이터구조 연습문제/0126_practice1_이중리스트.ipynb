{
 "cells": [
  {
   "cell_type": "markdown",
   "metadata": {},
   "source": [
    "# Practice 1\n",
    "\n",
    "> 복잡한 자료구조의 (2차원 리스트) 반복문"
   ]
  },
  {
   "cell_type": "markdown",
   "metadata": {},
   "source": [
    "## 복잡한 리스트의 합\n",
    "\n",
    "> 2차원 리스트를 반복하는 방법을 알아봅시다. \n",
    "\n",
    "\n",
    "* 주어진 아래의 리스트를 반복하여 숫자의 합을 반환하시오.\n",
    "\n",
    "---\n",
    "**예시 입력**\n",
    "\n",
    "```python\n",
    "numbers = [\n",
    "    [1, 4],\n",
    "    [10, 5],\n",
    "    [20, 30]    \n",
    "]\n",
    "\n",
    "```\n",
    "\n",
    "**예시 출력**\n",
    "```python\n",
    "sum_list([[1, 4], [10, 5], [20, 30]]) # 70\n",
    "```"
   ]
  },
  {
   "cell_type": "markdown",
   "metadata": {},
   "source": [
    "### for 문을 활용하여 풀이하기\n",
    "\n",
    "```python\n",
    "for element in list:\n",
    "```"
   ]
  },
  {
   "cell_type": "code",
   "execution_count": 1,
   "metadata": {},
   "outputs": [],
   "source": [
    "# 아래에 코드를 작성하세요.\n",
    "def sum_list(numbers):\n",
    "    \n",
    "    # 0. 총 합 담을 변수 초기화\n",
    "    total = 0\n",
    "    \n",
    "    # 1. numbers 반복(순회)하기\n",
    "    for number in numbers: # number = [1, 4]\n",
    "        # 2. number 반복(순회) 하기\n",
    "        for n in number:   # n = 1, n = 2 ..\n",
    "            # 3. 리스트 내 리스트 값 하나하나 total에 더해주기\n",
    "            total += n     # total += 1, total += 2 ..\n",
    "          \n",
    "    # 4. 총 합 반환\n",
    "    return total\n",
    "        "
   ]
  },
  {
   "cell_type": "code",
   "execution_count": 2,
   "metadata": {},
   "outputs": [
    {
     "name": "stdout",
     "output_type": "stream",
     "text": [
      "70\n"
     ]
    }
   ],
   "source": [
    "print(sum_list([[1, 4], [10, 5], [20, 30]]))"
   ]
  },
  {
   "cell_type": "code",
   "execution_count": 36,
   "metadata": {},
   "outputs": [],
   "source": [
    "# list comrehension 활용\n",
    "def sum_list(numbers):\n",
    "    \n",
    "    # 이중 리스트 flatten\n",
    "    number_list = [n for number in numbers\n",
    "                    for n in number]\n",
    "    \n",
    "    # number_list 요소 더하기\n",
    "    total = 0\n",
    "    for number in number_list:\n",
    "        total += number\n",
    "    \n",
    "    # 총 합 반환\n",
    "    return total"
   ]
  },
  {
   "cell_type": "code",
   "execution_count": 37,
   "metadata": {},
   "outputs": [
    {
     "name": "stdout",
     "output_type": "stream",
     "text": [
      "70\n"
     ]
    }
   ],
   "source": [
    "print(sum_list([[1, 4], [10, 5], [20, 30]]))"
   ]
  },
  {
   "cell_type": "markdown",
   "metadata": {},
   "source": [
    "### Index로 접근하여 풀이하기\n",
    "\n",
    "```python\n",
    "for element in range(len(list)):\n",
    "```"
   ]
  },
  {
   "cell_type": "code",
   "execution_count": 7,
   "metadata": {},
   "outputs": [],
   "source": [
    "# 아래에 코드를 작성하세요.\n",
    "def sum_list_index(numbers):\n",
    "    \n",
    "    total = 0\n",
    "    \n",
    "    # 외부 리스트를 (index 값으로) 순회하여 내부 리스트를 하나씩 꺼낸다.\n",
    "    for i in range(len(numbers)): # range(3) -> 0, 1, 2\n",
    "        # 내부 리스트를 (index 값으로) 순회하여 숫자를 하나씩 꺼낸다.\n",
    "        for j in range(len(numbers[i])): #range(2) -> 0, 1\n",
    "            # 최종 숫자 요소 접근 : 2차원_배열_이름[외부_리스트_인덱스][내부_리스트_인덱스]\n",
    "            total += numbers[i][j]\n",
    "    \n",
    "    return total\n",
    "        "
   ]
  },
  {
   "cell_type": "code",
   "execution_count": 8,
   "metadata": {},
   "outputs": [
    {
     "name": "stdout",
     "output_type": "stream",
     "text": [
      "70\n"
     ]
    }
   ],
   "source": [
    "print(sum_list_index([[1, 4], [10, 5], [20, 30]]))"
   ]
  },
  {
   "cell_type": "code",
   "execution_count": 31,
   "metadata": {},
   "outputs": [],
   "source": [
    "# 리스트 컴프리헨션 활용\n",
    "\n",
    "def sum_list_index(numbers):\n",
    "    \n",
    "    # 이중 리스트 flatten\n",
    "    number_list = [numbers[i][j] for i in range(len(numbers)) # 외부 리스트의 개수만큼 반복 - ex) [[],[],[]]니까 range(0, 3) - i:0, 1, 2\n",
    "                      for j in range(len(numbers[i]))]        # 내부 리스트의 개수만큼 반복 - ex) [1, 4]니까 range(0, 2) - j:0, 1\n",
    "                  # numbers[i][j] => i:크게 도는 사이클, j: 각 내부 리스트를 도는 사이클\n",
    "                  #  - i에서 j가 다 돌고, 그 다음 i가 돌고 j가 돌고..\n",
    "                  # ex)numbers[0][0] = 1, numbers[0][1] = 4, number[1][0] = 10, ... , number[2][1] = 30\n",
    "    \n",
    "    # number_list 요소 더하기\n",
    "    total = 0\n",
    "    for i in range(len(number_list)):\n",
    "        total += number_list[i]\n",
    "    \n",
    "    return total\n",
    "    "
   ]
  },
  {
   "cell_type": "code",
   "execution_count": 32,
   "metadata": {},
   "outputs": [
    {
     "name": "stdout",
     "output_type": "stream",
     "text": [
      "70\n"
     ]
    }
   ],
   "source": [
    "print(sum_list_index([[1, 4], [10, 5], [20, 30]]))"
   ]
  },
  {
   "cell_type": "markdown",
   "metadata": {},
   "source": [
    "### while 문을 활용하여 풀이하기\n",
    "\n",
    "```python\n",
    "while ____:\n",
    "```"
   ]
  },
  {
   "cell_type": "code",
   "execution_count": 11,
   "metadata": {},
   "outputs": [],
   "source": [
    "## 아래에 코드를 작성하세요.\n",
    "def sum_list_while(numbers):\n",
    "    \n",
    "    # 모든 요소의 합을 저장할 변수 초기화\n",
    "    total = 0\n",
    "    # 겉 리스트 인덱스\n",
    "    i = 0\n",
    "    \n",
    "    # numbers의 길이만큼 반복 \n",
    "    while i < len(numbers):\n",
    "        \n",
    "        # 내부 리스트 인덱스\n",
    "        j = 0\n",
    "        # numbers의 [i]번째 인덱스의 길이만큼 반복\n",
    "        while j < len(numbers[i]):\n",
    "            # 내부 리스트의 모든 요소의 값 접근하여 total에 더하기\n",
    "            total += numbers[i][j]\n",
    "            j += 1\n",
    "            \n",
    "        # i에 1씩 증가\n",
    "        i += 1\n",
    "        \n",
    "    return total"
   ]
  },
  {
   "cell_type": "code",
   "execution_count": 12,
   "metadata": {},
   "outputs": [
    {
     "name": "stdout",
     "output_type": "stream",
     "text": [
      "70\n"
     ]
    }
   ],
   "source": [
    "print(sum_list_while([[1, 4], [10, 5], [20, 30]]))"
   ]
  },
  {
   "cell_type": "code",
   "execution_count": 38,
   "metadata": {},
   "outputs": [],
   "source": [
    "# while문 한 번 쓰는 방법 - 리스트 내 각 요소의 숫자가 같을 때만 적용 가능!\n",
    "\n",
    "def sum_list_while(numbers):\n",
    "    \n",
    "    total = 0\n",
    "    i = 0\n",
    "    \n",
    "    while i < len(numbers):\n",
    "        x, y = numbers[i] # i가 0일 때, x = 1, y = 4로 할당됨\n",
    "        total += x + y\n",
    "        i += 1\n",
    "        \n",
    "    return total"
   ]
  },
  {
   "cell_type": "code",
   "execution_count": 39,
   "metadata": {},
   "outputs": [
    {
     "name": "stdout",
     "output_type": "stream",
     "text": [
      "70\n"
     ]
    }
   ],
   "source": [
    "print(sum_list_while([[1, 4], [10, 5], [20, 30]]))"
   ]
  },
  {
   "cell_type": "code",
   "execution_count": 48,
   "metadata": {},
   "outputs": [
    {
     "name": "stdout",
     "output_type": "stream",
     "text": [
      "1 4 <class 'int'> <class 'int'>\n"
     ]
    }
   ],
   "source": [
    "x, y = numbers[0]\n",
    "print(x, y, type(x), type(y))"
   ]
  },
  {
   "cell_type": "code",
   "execution_count": 49,
   "metadata": {},
   "outputs": [],
   "source": [
    "# solution\n",
    "\n",
    "# while문은 반복 종료를 위한 조건이 필요하다!\n",
    "\n",
    "def sum_list_while(numbers):\n",
    "    result = 0\n",
    "    \n",
    "    # 외부 리스트 순회\n",
    "    i = 0 # 외부 리스트 인덱스 값\n",
    "    while i < len(numbers):   # => 0, 1, 2\n",
    "        \n",
    "        # 내부 리스트 순회\n",
    "        j = 0 # 내부 리스트 인덱스 값\n",
    "        while j < len(numbers[i]):  # => 0, 1\n",
    "            result += numbers[i][j]\n",
    "            # 내부 리스트의 다음 요소에 접근하기 위해 1 더하기\n",
    "            j += 1\n",
    "            \n",
    "        # 외부 리스트의 다음 요소에 접근하기 위해 1 더하기\n",
    "        i += 1\n",
    "        \n",
    "    return result\n",
    "        "
   ]
  },
  {
   "cell_type": "code",
   "execution_count": 50,
   "metadata": {},
   "outputs": [
    {
     "name": "stdout",
     "output_type": "stream",
     "text": [
      "70\n"
     ]
    }
   ],
   "source": [
    "print(sum_list_while([[1, 4], [10, 5], [20, 30]]))"
   ]
  },
  {
   "cell_type": "markdown",
   "metadata": {},
   "source": [
    "## 시험 점수\n",
    "\n",
    "> 2차원 배열\n",
    "\n",
    "\n",
    "* A반 학생들의 점수는 아래와 같고, students 리스트에 저장되어 있다.\n",
    "\n",
    "    * A학생(국어 100점, 수학 80점, 영어 100점)\n",
    "    * B학생(국어 90점, 수학 90점, 영어 60점)\n",
    "    * C학생(국어 80점, 수학 80점, 영어 80점)\n",
    "\n",
    "```python\n",
    "students = [\n",
    " [100, 80, 100],\n",
    " [90, 90, 60],\n",
    " [80, 80, 80]\n",
    "]\n",
    "```"
   ]
  },
  {
   "cell_type": "markdown",
   "metadata": {},
   "source": [
    "### 학생별 출력\n",
    "\n",
    "* 아래의 리스트를 반복하여 **학생별 총합**을 순서대로 `출력`하시오.\n",
    "\n",
    "* `sum` 함수 사용 금지\n",
    "\n",
    "---\n",
    "**예시 입력**\n",
    "\n",
    "```python\n",
    "students = [\n",
    " [100, 80, 100],\n",
    " [90, 90, 60],\n",
    " [80, 80, 80]\n",
    "]\n",
    "```\n",
    "\n",
    "**예시 출력**\n",
    "```\n",
    "280\n",
    "240\n",
    "240\n",
    "```"
   ]
  },
  {
   "cell_type": "code",
   "execution_count": 51,
   "metadata": {},
   "outputs": [],
   "source": [
    "students = [\n",
    " [100, 80, 100],\n",
    " [90, 90, 60],\n",
    " [80, 80, 80]\n",
    "]"
   ]
  },
  {
   "cell_type": "code",
   "execution_count": 15,
   "metadata": {},
   "outputs": [
    {
     "name": "stdout",
     "output_type": "stream",
     "text": [
      "280\n",
      "240\n",
      "240\n"
     ]
    }
   ],
   "source": [
    "# 아래에 풀이를 작성하세요. 함수 정의는 필요없습니다.\n",
    "\n",
    "# 각 학생들 리스트에 접근\n",
    "for student in students:\n",
    "    # 학생 별 점수 총 합을 담을 변수 초기화\n",
    "    total = 0\n",
    "    # 각 학생의 점수 반복하며\n",
    "    for score in student:\n",
    "        # total에 더해주기\n",
    "        total += score\n",
    "    # 각 학생 별 총점이 담긴 total 출력\n",
    "    print(total)"
   ]
  },
  {
   "cell_type": "code",
   "execution_count": 55,
   "metadata": {},
   "outputs": [
    {
     "name": "stdout",
     "output_type": "stream",
     "text": [
      "280\n",
      "240\n",
      "240\n"
     ]
    }
   ],
   "source": [
    "# Solution\n",
    "\n",
    "for student in students:\n",
    "    # 각 행 별로 각각의 sum을 구해주는 것이기 때문에, \n",
    "    # 각 행의 총 합을 구한 후, 출력해주고,\n",
    "    # 다시 0으로 초기화해주어야 한다.\n",
    "    result = 0\n",
    "    for score in student:\n",
    "        result += score\n",
    "        \n",
    "    print(result)"
   ]
  },
  {
   "cell_type": "code",
   "execution_count": 58,
   "metadata": {},
   "outputs": [
    {
     "name": "stdout",
     "output_type": "stream",
     "text": [
      "280\n",
      "240\n",
      "240\n"
     ]
    }
   ],
   "source": [
    "# [Optional] - for문 index 활용하여 사용\n",
    "\n",
    "# 각 행에 접근\n",
    "for i in range(len(students)): # i : 학생 리스트 인덱스\n",
    "    result = 0\n",
    "    \n",
    "    # 해당 행의 요소에 접근\n",
    "    for j in range(len(students[i])): # j : 학생의 과목 별 점수 리스트 인덱스\n",
    "        result += students[i][j] # 학생_데이터[학생_인덱스][학생의_과목_인덱스]\n",
    "        \n",
    "    print(result)"
   ]
  },
  {
   "cell_type": "markdown",
   "metadata": {},
   "source": [
    "### 과목별 출력\n",
    "\n",
    "* 아래의 리스트를 반복하여 **과목별 총합**을 순서대로 `출력`하시오.\n",
    "* `sum` 함수 사용 금지\n",
    "\n",
    "---\n",
    "**예시 입력**\n",
    "\n",
    "```python\n",
    "students = [\n",
    " [100, 80, 100],\n",
    " [90, 90, 60],\n",
    " [80, 80, 80]\n",
    "]\n",
    "```\n",
    "\n",
    "**예시 출력**\n",
    "```\n",
    "270\n",
    "250\n",
    "240\n",
    "```"
   ]
  },
  {
   "cell_type": "code",
   "execution_count": 59,
   "metadata": {},
   "outputs": [],
   "source": [
    "students = [\n",
    " [100, 80, 100],\n",
    " [90, 90, 60],\n",
    " [80, 80, 80]\n",
    "]"
   ]
  },
  {
   "cell_type": "code",
   "execution_count": 19,
   "metadata": {},
   "outputs": [
    {
     "name": "stdout",
     "output_type": "stream",
     "text": [
      "270\n",
      "250\n",
      "240\n"
     ]
    }
   ],
   "source": [
    "# 아래에 풀이를 작성하세요. 함수 정의는 필요없습니다.\n",
    "\n",
    "# 리스트의 인덱스로 접근 - 학생\n",
    "for i in range(len(students)): # \n",
    "    # 과목 별 총합을 담을 변수 초기화\n",
    "    total_score_by_class = 0\n",
    "    \n",
    "    # 리스트의 인덱스로 접근 - 과목\n",
    "    for j in range(len(students[i])):\n",
    "        # [j]번째 과목의 [i]번째 학생의 점수 합\n",
    "        total_score_by_class += students[j][i]\n",
    "    \n",
    "    print(total_score_by_class)"
   ]
  },
  {
   "cell_type": "code",
   "execution_count": 62,
   "metadata": {},
   "outputs": [
    {
     "name": "stdout",
     "output_type": "stream",
     "text": [
      "270\n",
      "250\n",
      "240\n"
     ]
    }
   ],
   "source": [
    "# Solution\n",
    "\n",
    "# IM 합격을 위해 무수히 많이 풀어볼 문제 유행\n",
    "# 2중 for문을 순회하고,\n",
    "# 2중 for문 안에서 내가 원하는 데이터만 적절하게 가져오기!\n",
    "\n",
    "# 점수_데이터[학생_인덱스][과목_인덱스]\n",
    "#  => 우리가 원하는 데이터 \n",
    "# 1) 점수_데이터[정예울][수학]\n",
    "# 2) 점수_데이터[밀크][수학]\n",
    "# 3) 점수_데이터[두유][수학]\n",
    "\n",
    "for x in range(len(students[0])):  # 과목 : 0-국어, 1-수학, 2-영어 \n",
    "    total = 0\n",
    "    for y in range(len(students)): # 학생 : 0-정예울, 1-밀크, 2-두유\n",
    "    \n",
    "        # y : 학생 인덱스\n",
    "        # x : 과목 인덱스\n",
    "        # 정예울의 국어점수, 밀크의 국어점수, 두유의 국어점수\n",
    "        total += students[y][x]\n",
    "    \n",
    "    print(total)"
   ]
  },
  {
   "cell_type": "code",
   "execution_count": null,
   "metadata": {},
   "outputs": [],
   "source": []
  }
 ],
 "metadata": {
  "kernelspec": {
   "display_name": "Python 3",
   "language": "python",
   "name": "python3"
  },
  "language_info": {
   "codemirror_mode": {
    "name": "ipython",
    "version": 3
   },
   "file_extension": ".py",
   "mimetype": "text/x-python",
   "name": "python",
   "nbconvert_exporter": "python",
   "pygments_lexer": "ipython3",
   "version": "3.8.7"
  },
  "toc": {
   "base_numbering": 1,
   "nav_menu": {},
   "number_sections": true,
   "sideBar": true,
   "skip_h1_title": false,
   "title_cell": "Table of Contents",
   "title_sidebar": "Contents",
   "toc_cell": false,
   "toc_position": {},
   "toc_section_display": true,
   "toc_window_display": false
  }
 },
 "nbformat": 4,
 "nbformat_minor": 4
}
