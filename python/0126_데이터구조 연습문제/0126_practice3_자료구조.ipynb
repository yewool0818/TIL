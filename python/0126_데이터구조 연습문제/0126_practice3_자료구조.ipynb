{
 "cells": [
  {
   "cell_type": "markdown",
   "metadata": {},
   "source": [
    "# Practice 3\n",
    "\n",
    "> 자료 구조 "
   ]
  },
  {
   "cell_type": "markdown",
   "metadata": {},
   "source": [
    "## 썩은 과일 찾기\n",
    "\n",
    "> 과수원에 농부 한명이 썩은 과일이 몇개 들어있는 과일 봉지를 가지고 있다. (과일 봉지는 리스트를 의미한다.)\n",
    ">\n",
    "> 썩은 과일 조각들을 모두 신선한 것으로 교체하는 함수 `change_rotten_fruit()`를 작성하시오. \n",
    ">\n",
    "> 예를 들어,\n",
    "- `['apple', 'rottenBanana', 'apple']` 이라는 리스트가 주어진 경우, 대체된 리스트는 `['apple', 'banana', 'apple']` 이어야 한다. \n",
    ">\n",
    ">\n",
    "> **유의**\n",
    "- 만약 리스트가 null/nil/None이거나 비어 있는 경우 빈 리스트를 반환한다.\n",
    "- 반환된 리스트의 요소는 모두 소문자여야 한다.\n",
    "\n",
    "---\n",
    "\n",
    "예시)\n",
    "\n",
    "```python\n",
    "change_rotten_fruit(['apple', 'rottenBanana', 'apple']) \n",
    "#=> ['apple', 'banana', 'apple']\n",
    "\n",
    "change_rotten_fruit(['rottenapple', 'rottenBanana', 'apple', 'rottenGrape']) \n",
    "#=> ['apple', 'banana', 'apple', 'grape']\n",
    "```"
   ]
  },
  {
   "cell_type": "code",
   "execution_count": 5,
   "metadata": {},
   "outputs": [],
   "source": [
    "def change_rotten_fruit(fruit_bag):\n",
    "    \n",
    "    # 신선한 과일을 담을 바구니 리스트 초기화\n",
    "    fresh_fruit_bag = []\n",
    "    \n",
    "    # 과일 바구니에서 과일 하나씩 꺼내보기\n",
    "    for fruit in fruit_bag:\n",
    "        \n",
    "        # 상한 과일이면, -- rotten으로 시작하는 단어일 경우 \n",
    "        if fruit.startswith('rotten'): # find('rotten')일 경우, 해당 문자열에 문자가 몇 개 들어있는지 반환해줌\n",
    "            replace_fruit = fruit[6:].lower()# 신선한 과일로 대체\n",
    "            fresh_fruit_bag.append(replace_fruit)  # 대체된 과일을 바구니에 담기\n",
    "            \n",
    "        # 신선한 과일이면,\n",
    "        else:\n",
    "            fresh_fruit_bag.append(fruit) # 신선한 과일 바구니에 바로 담는다.\n",
    "        \n",
    "    # 신선한 과일로 교체된 바구니 리스트 반환\n",
    "    return fresh_fruit_bag"
   ]
  },
  {
   "cell_type": "code",
   "execution_count": 8,
   "metadata": {},
   "outputs": [],
   "source": [
    "# 주석 없는 풀이\n",
    "\n",
    "def change_rotten_fruit(fruit_bag):\n",
    "    \n",
    "    fresh_fruit_bag = []\n",
    "    \n",
    "    for fruit in fruit_bag:\n",
    "        \n",
    "        if fruit.startswith('rotten'):\n",
    "            fruit = fruit[6:].lower()\n",
    "       \n",
    "        fresh_fruit_bag.append(fruit)\n",
    "        \n",
    "    return fresh_fruit_bag"
   ]
  },
  {
   "cell_type": "code",
   "execution_count": 9,
   "metadata": {},
   "outputs": [
    {
     "name": "stdout",
     "output_type": "stream",
     "text": [
      "['apple', 'banana', 'apple']\n",
      "['apple', 'banana', 'apple', 'grape']\n"
     ]
    }
   ],
   "source": [
    "# 해당 코드를 통해 올바른 결과가 나오는지 확인하시오.\n",
    "print(change_rotten_fruit(['apple', 'rottenBanana', 'apple'] ))\n",
    "print(change_rotten_fruit(['rottenapple', 'rottenBanana', 'apple', 'rottenGrape']))"
   ]
  },
  {
   "cell_type": "markdown",
   "metadata": {},
   "source": [
    "### 👨‍🏫 Solution"
   ]
  },
  {
   "cell_type": "code",
   "execution_count": 44,
   "metadata": {},
   "outputs": [],
   "source": [
    "def change_rotten_fruit(fruit_bag):\n",
    "    result = []\n",
    "    \n",
    "    for fruit in fruit_bag:\n",
    "        # 과일이 썩어있으면 신선한 것으로 바꾼다.\n",
    "        \n",
    "        # 1) rotten 문자를 바꾼다. -> replace('찾을 대상', '바꿀 문자') 이용\n",
    "        fruit = fruit.replace('rotten', '') # rottenBanana -> Banana (만약 rotten이 없는 문자는 아무 변화가 없다.)\n",
    "\n",
    "        # 2) 대문자를 소문자로 바꾼다. (B->b)\n",
    "        fruit = fruit.lower() # Banana -> banana\n",
    "        \n",
    "        # 3) 바구니에 담는다.\n",
    "        result.append(fruit)\n",
    "        \n",
    "    return result"
   ]
  },
  {
   "cell_type": "code",
   "execution_count": 45,
   "metadata": {},
   "outputs": [
    {
     "name": "stdout",
     "output_type": "stream",
     "text": [
      "['apple', 'banana', 'apple']\n",
      "['apple', 'banana', 'apple', 'grape']\n"
     ]
    }
   ],
   "source": [
    "# 해당 코드를 통해 올바른 결과가 나오는지 확인하시오.\n",
    "print(change_rotten_fruit(['apple', 'rottenBanana', 'apple'] ))\n",
    "print(change_rotten_fruit(['rottenapple', 'rottenBanana', 'apple', 'rottenGrape']))"
   ]
  },
  {
   "cell_type": "markdown",
   "metadata": {},
   "source": [
    "## 중복되지 않은 숫자의 합\n",
    "\n",
    "> 같은 숫자가 한개 있거나 두개가 들어있는 리스트가 주어진다. 이러한 리스트에서 숫자가 한개만 있는 요소들의 합을 구하는 함수 `sum_of_repeat_number()`를 작성하시오.\n",
    ">\n",
    "> 예를 들어, `[4, 5, 7, 5, 4, 8]`는 7과 8이 한번만 나오기 때문에 두개를 더한 15가 결과값으로 도출된다.\n",
    "\n",
    "---\n",
    "\n",
    "예시)\n",
    "\n",
    "```python\n",
    "sum_of_repeat_number([4, 4, 7, 8, 10]) # => 25\n",
    "```\n"
   ]
  },
  {
   "cell_type": "code",
   "execution_count": 32,
   "metadata": {},
   "outputs": [],
   "source": [
    "def sum_of_repeat_number(numbers):\n",
    "    \n",
    "    #result_list = list(set(numbers)) # set을 쓰면 중복되는 값 중 하나는 남아있어서 안 된다!\n",
    "    # list(set(numbers)) => [4, 7, 8, 10]\n",
    "    \n",
    "    # 중복되지 않은 숫자를 담을 리스트 변수 생성\n",
    "    number_not_repeated_list = [number for number in list(set(numbers)) \n",
    "                                # 인자값으로 들어온 numbers 리스트에서 중복값을 제거하여 list로 만들어줘서 반복\n",
    "                                    if numbers.count(number) == 1]      \n",
    "                                    # 그 중 numbers 리스트 내에 1개의 요소만 가지고 있는 경우에만 리스트에 추가\n",
    "            \n",
    "    # 중복되지 않은 숫자만 있는 리스트의 총 합 반환\n",
    "    return sum(number_not_repeated_list) "
   ]
  },
  {
   "cell_type": "code",
   "execution_count": 38,
   "metadata": {},
   "outputs": [
    {
     "name": "stdout",
     "output_type": "stream",
     "text": [
      "25\n"
     ]
    }
   ],
   "source": [
    "# 해당 코드를 통해 올바른 결과가 나오는지 확인하시오.\n",
    "print(sum_of_repeat_number([4, 4, 7, 8, 10]))"
   ]
  },
  {
   "cell_type": "markdown",
   "metadata": {},
   "source": [
    "### 👨‍🏫 Solution\n",
    "전체 숫자 리스트 순회한다. (반복) <br>\n",
    "한 번만 등장한 숫자면,     (조건) <br>\n",
    "<t>특정한 리스트에 추가한다. (변수-저장)<br>\n",
    "    \n",
    "합을 반환한다.<br> `4`\n",
    "    \n",
    "한 번 등장한 숫자를 저장 -> once = [`4`]<br>\n",
    "두 번 이상 등장한 숫자를 저장 -> muliple = []<br>\n",
    "   \n",
    "(조건1) 만약 한 번이라도 등장한 숫자면,<br>\n",
    "    multiple 리스트에 추가한다.<br>\n",
    "    once 리스트에서 삭제한다.<br>\n",
    "(조건2) 한번도 등장하지 않았고, multiple 리스트에도 없으면,<br>\n",
    "    once 리스트에 추가한다."
   ]
  },
  {
   "cell_type": "code",
   "execution_count": 51,
   "metadata": {},
   "outputs": [],
   "source": [
    "# Solution 1\n",
    "\n",
    "def sum_of_repeat_number(numbers):\n",
    "    once = []     # 한 번 등장 리스트\n",
    "    multiple = [] # 여러 번 등장 리스트\n",
    "    \n",
    "    # 숫자 순회하면서 확인\n",
    "    for number in numbers:\n",
    "        \n",
    "        # number가 한 번 등장 리스트에 있으면 (=== 두번째 등장이면,)\n",
    "        if number in once:\n",
    "            multiple.append(number) # 여러 번 등장 리스트에 추가\n",
    "            once.remove(number)     # 한 번 등장 리스트에서 제거\n",
    "            \n",
    "        # number가 한 번 등장 리스트에 없고 && 여러 번 등장 리스트에도 없으면 (==처음 등장)\n",
    "        elif number not in multiple:\n",
    "            once.append(number)\n",
    "            \n",
    "    # 처음 등장 리스트 숫자 합해서 return\n",
    "    return sum(once)"
   ]
  },
  {
   "cell_type": "code",
   "execution_count": 52,
   "metadata": {},
   "outputs": [
    {
     "name": "stdout",
     "output_type": "stream",
     "text": [
      "25\n"
     ]
    }
   ],
   "source": [
    "# 해당 코드를 통해 올바른 결과가 나오는지 확인하시오.\n",
    "print(sum_of_repeat_number([4, 4, 7, 8, 10]))"
   ]
  },
  {
   "cell_type": "code",
   "execution_count": 57,
   "metadata": {},
   "outputs": [],
   "source": [
    "# Solution 2\n",
    "\n",
    "def sum_of_repeat_number(numbers):\n",
    "    \n",
    "    result = 0\n",
    "    \n",
    "    for number in numbers:\n",
    "        if numbers.count(number) == 1:\n",
    "            result += number\n",
    "            \n",
    "    return result"
   ]
  },
  {
   "cell_type": "code",
   "execution_count": 58,
   "metadata": {},
   "outputs": [
    {
     "name": "stdout",
     "output_type": "stream",
     "text": [
      "25\n"
     ]
    }
   ],
   "source": [
    "# 해당 코드를 통해 올바른 결과가 나오는지 확인하시오.\n",
    "print(sum_of_repeat_number([4, 4, 7, 8, 10]))"
   ]
  },
  {
   "cell_type": "code",
   "execution_count": null,
   "metadata": {},
   "outputs": [],
   "source": []
  }
 ],
 "metadata": {
  "kernelspec": {
   "display_name": "Python 3",
   "language": "python",
   "name": "python3"
  },
  "language_info": {
   "codemirror_mode": {
    "name": "ipython",
    "version": 3
   },
   "file_extension": ".py",
   "mimetype": "text/x-python",
   "name": "python",
   "nbconvert_exporter": "python",
   "pygments_lexer": "ipython3",
   "version": "3.8.7"
  },
  "toc": {
   "base_numbering": 1,
   "nav_menu": {},
   "number_sections": true,
   "sideBar": true,
   "skip_h1_title": false,
   "title_cell": "Table of Contents",
   "title_sidebar": "Contents",
   "toc_cell": false,
   "toc_position": {},
   "toc_section_display": true,
   "toc_window_display": false
  }
 },
 "nbformat": 4,
 "nbformat_minor": 4
}
