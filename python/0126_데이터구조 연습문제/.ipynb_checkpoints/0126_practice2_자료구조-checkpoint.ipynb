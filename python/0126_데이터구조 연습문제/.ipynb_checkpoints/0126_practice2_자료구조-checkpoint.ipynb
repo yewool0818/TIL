{
 "cells": [
  {
   "cell_type": "markdown",
   "metadata": {},
   "source": [
    "# Practice 2\n",
    "\n",
    "> 자료 구조 "
   ]
  },
  {
   "cell_type": "markdown",
   "metadata": {},
   "source": [
    "## 모든 위치\n",
    "\n",
    "> 주어진 문자열(text)에서 제시된 알파벳(alphabet)의 등장 위치를 리스트로 반환하시오.\n",
    "> 해당 알파벳이 등장하지 않으면, -1을 반환하시오.\n",
    "\n",
    "---\n",
    "\n",
    "예시)\n",
    "\n",
    "```python\n",
    "print(my_find('apple', 'p')) # [1, 2]\n",
    "print(my_find('a', 'p'))     # -1\n",
    "```\n"
   ]
  },
  {
   "cell_type": "code",
   "execution_count": 27,
   "metadata": {},
   "outputs": [],
   "source": [
    "def my_find(text, alphabet):\n",
    "    \n",
    "    result = []\n",
    "    \n",
    "    # text문 순회\n",
    "    for i in range(len(text)):\n",
    "        #  text의 [i]와 입력된 alphabet가 동일한 것이 있다면\n",
    "        if text[i] == alphabet:\n",
    "            result.append(i)   # 등장 위치 리스트에 추가\n",
    "        \n",
    "        \n",
    "    if result:          # result가 비어있지 않다면,\n",
    "        return result   # result 반환\n",
    "    else:               # 동일한 것이 없어 리스트가 비어있다면,\n",
    "        return -1       # -1 리턴\n"
   ]
  },
  {
   "cell_type": "code",
   "execution_count": 28,
   "metadata": {},
   "outputs": [
    {
     "name": "stdout",
     "output_type": "stream",
     "text": [
      "[1, 2]\n",
      "-1\n"
     ]
    }
   ],
   "source": [
    "# 해당 코드를 통해 올바른 결과가 나오는지 확인하시오.\n",
    "print(my_find('apple', 'p'))\n",
    "print(my_find('a', 'p'))"
   ]
  },
  {
   "cell_type": "markdown",
   "metadata": {},
   "source": [
    "### 👨‍🏫 Solution"
   ]
  },
  {
   "cell_type": "code",
   "execution_count": 19,
   "metadata": {},
   "outputs": [],
   "source": [
    "def my_find(text, alphabet):\n",
    "    \n",
    "    # 제시된 알파벳이 주어진 문자열에 등장하지 않으면,\n",
    "    if alphabet not in text:\n",
    "        return -1 # -1 반환 끝 !\n",
    "    \n",
    "    \n",
    "    # 제시된 알파벳이 주어진 문자열에 등장하면,\n",
    "    result = []\n",
    "     \n",
    "    for idx, char in enumerate(text):\n",
    "        if char == alphabet:\n",
    "            result.append(idx)\n",
    "    \n",
    "    return result\n",
    "    "
   ]
  },
  {
   "cell_type": "code",
   "execution_count": 20,
   "metadata": {},
   "outputs": [
    {
     "name": "stdout",
     "output_type": "stream",
     "text": [
      "[1, 2]\n",
      "-1\n"
     ]
    }
   ],
   "source": [
    "# 해당 코드를 통해 올바른 결과가 나오는지 확인하시오.\n",
    "print(my_find('apple', 'p'))\n",
    "print(my_find('a', 'p'))"
   ]
  },
  {
   "cell_type": "markdown",
   "metadata": {},
   "source": [
    "## 출석 체크\n",
    "\n",
    "> 주어진 학생 n과 출석한 학생명부 students 문자열이 있다. 결석한 학생들로 구성된 문자열을 반환하시오.\n",
    ">\n",
    "> n이 7일 때, 1 2 3 4 5 6 7의 출석 번호가 부여되고,\n",
    ">\n",
    "> '1 3 5'는 출석한 학생 명부이다. \n",
    ">\n",
    "> 즉, 결석한 학생 명부 '2 4 6 7'을 return 해야 한다.\n",
    "\n",
    "---\n",
    "\n",
    "예시)\n",
    "\n",
    "```python\n",
    "print(check(7, '1 3 5')) # 2 4 6 7\n",
    "```\n"
   ]
  },
  {
   "cell_type": "code",
   "execution_count": 42,
   "metadata": {},
   "outputs": [],
   "source": [
    "def check(n, students):\n",
    "    \n",
    "    #결석 학생을 반환해줄 문자열 초기화\n",
    "    absent_students = ''\n",
    "    \n",
    "    # 총 모든 학생 명부 리스트\n",
    "    # - 리스트가 아닌 문자열로 만들어 준다.\n",
    "    all_students = map(str, list(range(1, n+1))) #['1','2','3','4','5', '6', '7']\n",
    "    \n",
    "    # all_students를 순회하며, \n",
    "    for all_student in all_students:\n",
    "        # students(출석한 학생)에 없으면, 결석 학생으로 추가\n",
    "        # students는 문자열이기 때문에, 공백기준으로 분리하여 리스트 형식으로 만들어준다.\n",
    "        if all_student not in students.split():\n",
    "            absent_students += all_student + ' '\n",
    "        \n",
    "    return absent_students"
   ]
  },
  {
   "cell_type": "code",
   "execution_count": 43,
   "metadata": {
    "ExecuteTime": {
     "end_time": "2020-07-22T07:58:30.841852Z",
     "start_time": "2020-07-22T07:58:30.838924Z"
    }
   },
   "outputs": [
    {
     "name": "stdout",
     "output_type": "stream",
     "text": [
      "2 4 6 7 \n"
     ]
    }
   ],
   "source": [
    "# 해당 코드를 통해 올바른 결과가 나오는지 확인하시오.\n",
    "print(check(7, '1 3 5')) # 2 4 6 7"
   ]
  },
  {
   "cell_type": "markdown",
   "metadata": {},
   "source": [
    "### 👨‍🏫 Solution\n",
    "argument가 String으로 들어왔을 때, 푸는 방법을 연습해보자!"
   ]
  },
  {
   "cell_type": "code",
   "execution_count": 40,
   "metadata": {},
   "outputs": [],
   "source": [
    "def check(n, students):\n",
    "    \n",
    "    # 출석한 학생 : '1 3 5' -> [1, 3, 5]\n",
    "    students = list(map(int, students.split())) #.split()은 기본으로 str으로 반환되어 리스트에 저장된다.\n",
    "    \n",
    "    # 결석자 출석 번호 리스트\n",
    "    absents = []\n",
    "    \n",
    "    # 1번부터 n번까지 (전체 학생) 출석 번호 순회\n",
    "    for i in range(1, n+1):\n",
    "        # i번 학생이 출석한 학생 리스트에 없으면,\n",
    "        if i not in students:\n",
    "            absents.append(str(i))# 결석자 리스트에 추가\n",
    "    \n",
    "    # '[]'.join(list) : list -> string\n",
    "    result = ' '.join(absents)\n",
    "    \n",
    "    return result\n",
    "    "
   ]
  },
  {
   "cell_type": "code",
   "execution_count": 41,
   "metadata": {
    "ExecuteTime": {
     "end_time": "2020-07-22T07:58:30.841852Z",
     "start_time": "2020-07-22T07:58:30.838924Z"
    }
   },
   "outputs": [
    {
     "name": "stdout",
     "output_type": "stream",
     "text": [
      "2 4 6 7\n"
     ]
    }
   ],
   "source": [
    "# 해당 코드를 통해 올바른 결과가 나오는지 확인하시오.\n",
    "print(check(7, '1 3 5')) # 2 4 6 7"
   ]
  },
  {
   "cell_type": "code",
   "execution_count": null,
   "metadata": {},
   "outputs": [],
   "source": []
  }
 ],
 "metadata": {
  "kernelspec": {
   "display_name": "Python 3",
   "language": "python",
   "name": "python3"
  },
  "language_info": {
   "codemirror_mode": {
    "name": "ipython",
    "version": 3
   },
   "file_extension": ".py",
   "mimetype": "text/x-python",
   "name": "python",
   "nbconvert_exporter": "python",
   "pygments_lexer": "ipython3",
   "version": "3.8.7"
  },
  "toc": {
   "base_numbering": 1,
   "nav_menu": {},
   "number_sections": true,
   "sideBar": true,
   "skip_h1_title": false,
   "title_cell": "Table of Contents",
   "title_sidebar": "Contents",
   "toc_cell": false,
   "toc_position": {},
   "toc_section_display": true,
   "toc_window_display": false
  }
 },
 "nbformat": 4,
 "nbformat_minor": 4
}
