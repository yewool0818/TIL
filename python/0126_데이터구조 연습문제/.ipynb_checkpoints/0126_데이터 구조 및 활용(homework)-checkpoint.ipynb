{
 "cells": [
  {
   "cell_type": "markdown",
   "id": "former-preparation",
   "metadata": {},
   "source": [
    "**학습해야 할 내용**\n",
    "- 데이터 구조\n",
    "- 메서드"
   ]
  },
  {
   "cell_type": "markdown",
   "id": "temporal-monday",
   "metadata": {},
   "source": [
    "### Built-in 함수와 메서드"
   ]
  },
  {
   "cell_type": "markdown",
   "id": "laughing-desire",
   "metadata": {},
   "source": [
    "`sorted()`와 `.sort()`의 차이점을 코드의 실행 결과를 활용하여 설명하시오."
   ]
  },
  {
   "cell_type": "markdown",
   "id": "frank-desperate",
   "metadata": {},
   "source": [
    "**두 함수의 가장 큰 차이점은 기존 데이터 자체를 변경하지는지 차이이다**<br>\n",
    "즉, 데이터 자체를 정렬하는지 = 반환값 X <br>\n",
    "데이터를 일시적으로 정렬하는지 = 반환값 O  이다"
   ]
  },
  {
   "cell_type": "markdown",
   "id": "canadian-scenario",
   "metadata": {},
   "source": [
    "#### `sorted()`함수 \n",
    ": 데이터를 일시적으로 정렬하기 때문에, 정렬된 데이터를 사용하고자 한다면, 반환받아야 한다."
   ]
  },
  {
   "cell_type": "code",
   "execution_count": 8,
   "id": "occupational-badge",
   "metadata": {},
   "outputs": [
    {
     "name": "stdout",
     "output_type": "stream",
     "text": [
      "[1, 2, 3, 4, 5]\n",
      "[2, 3, 1, 5, 4]\n"
     ]
    }
   ],
   "source": [
    "numbers = [2, 3, 1, 5, 4]\n",
    "\n",
    "print(sorted(numbers))    # 일시적으로 정렬됨\n",
    "print(numbers)            # 원래 데이터는 변환되지 않음"
   ]
  },
  {
   "cell_type": "code",
   "execution_count": 9,
   "id": "intellectual-spain",
   "metadata": {},
   "outputs": [
    {
     "name": "stdout",
     "output_type": "stream",
     "text": [
      "[1, 2, 3, 4, 5]\n"
     ]
    }
   ],
   "source": [
    "sorted_numbers = sorted(numbers) # 정렬된 데이터를 반환해줄 수 있다\n",
    "print(sorted_numbers)"
   ]
  },
  {
   "cell_type": "markdown",
   "id": "protected-prisoner",
   "metadata": {},
   "source": [
    "#### `.sort()` 함수\n",
    ": 데이터 자체에 영향을 주어 정렬한다."
   ]
  },
  {
   "cell_type": "code",
   "execution_count": 11,
   "id": "statistical-twelve",
   "metadata": {},
   "outputs": [
    {
     "name": "stdout",
     "output_type": "stream",
     "text": [
      "[1, 2, 3, 4, 5]\n"
     ]
    }
   ],
   "source": [
    "numbers = [2, 3, 1, 5, 4]\n",
    "\n",
    "numbers.sort()\n",
    "\n",
    "print(numbers)  # 기존 값인 numbers 자체를 변경해줌"
   ]
  },
  {
   "cell_type": "markdown",
   "id": "breeding-breast",
   "metadata": {},
   "source": [
    "### .extend()와 .append()"
   ]
  },
  {
   "cell_type": "markdown",
   "id": "light-machinery",
   "metadata": {},
   "source": [
    "`.extend()`와 `.append()`의 차이점을 코드의 실행 결과를 활용하여 설명하시오."
   ]
  },
  {
   "cell_type": "markdown",
   "id": "whole-hurricane",
   "metadata": {},
   "source": [
    "**공통점**\n",
    ": 두 함수 모두 리스트에 요소를 추가하는 함수이다."
   ]
  },
  {
   "cell_type": "markdown",
   "id": "bizarre-norfolk",
   "metadata": {},
   "source": [
    "#### `.extend()`함수 \n",
    ": 문자열을 입력하면, 리스트에 요소가 한 문자 씩 분리되어 추가된다.<br>\n",
    "\n",
    "문자열 자체를 리스트에 추가하고자 한다면, `[]`와 같이 리스트 자체를 extend() 해주어야 한다."
   ]
  },
  {
   "cell_type": "code",
   "execution_count": 15,
   "id": "hairy-focus",
   "metadata": {},
   "outputs": [
    {
     "name": "stdout",
     "output_type": "stream",
     "text": [
      "['I', 'study', 'Python', 'e', 'v', 'e', 'r', 'y', 'd', 'a', 'y']\n"
     ]
    }
   ],
   "source": [
    "words = ['I', 'study', 'Python']\n",
    "\n",
    "words.extend('everyday')\n",
    "\n",
    "print(words) # everyday가 한 글자씩 추가된다."
   ]
  },
  {
   "cell_type": "markdown",
   "id": "auburn-renaissance",
   "metadata": {},
   "source": [
    "`extend()`는 list를 +로 이어줄 때와 동일한 방법이다."
   ]
  },
  {
   "cell_type": "code",
   "execution_count": 18,
   "id": "sound-hammer",
   "metadata": {},
   "outputs": [
    {
     "name": "stdout",
     "output_type": "stream",
     "text": [
      "['I', 'study', 'Python', 'e', 'v', 'e', 'r', 'y', 'd', 'a', 'y']\n"
     ]
    }
   ],
   "source": [
    "words = ['I', 'study', 'Python']\n",
    "\n",
    "words += 'everyday'\n",
    "\n",
    "print(words)"
   ]
  },
  {
   "cell_type": "markdown",
   "id": "optional-wrist",
   "metadata": {},
   "source": [
    "list의 요소 하나로 문자열을 추가하고 싶다면, 아래와 같은 방법으로 해야한다.\n"
   ]
  },
  {
   "cell_type": "code",
   "execution_count": 19,
   "id": "affecting-regression",
   "metadata": {},
   "outputs": [
    {
     "name": "stdout",
     "output_type": "stream",
     "text": [
      "['I', 'study', 'Python', 'everyday']\n",
      "['I', 'study', 'Python', 'everyday', 'It is very fun!']\n"
     ]
    }
   ],
   "source": [
    "words = ['I', 'study', 'Python']\n",
    "\n",
    "words.extend(['everyday'])\n",
    "\n",
    "print(words) # argument에 리스트 형태로 넣어줘야 문자열 전체가 들어간다.\n",
    "\n",
    "words += ['It is very fun!']\n",
    "\n",
    "print(words)"
   ]
  },
  {
   "cell_type": "markdown",
   "id": "adolescent-color",
   "metadata": {},
   "source": [
    "#### `append()` 함수\n",
    ": argument값이 리스트의 하나의 요소로 들어간다."
   ]
  },
  {
   "cell_type": "code",
   "execution_count": 20,
   "id": "potential-support",
   "metadata": {},
   "outputs": [
    {
     "name": "stdout",
     "output_type": "stream",
     "text": [
      "['I', 'like', 'banana']\n"
     ]
    }
   ],
   "source": [
    "words = ['I', 'like']\n",
    "\n",
    "words.append('banana')\n",
    "\n",
    "print(words)"
   ]
  },
  {
   "cell_type": "markdown",
   "id": "toxic-holocaust",
   "metadata": {},
   "source": [
    "argument에 list를 넣으면 내부 리스트로 추가된다."
   ]
  },
  {
   "cell_type": "code",
   "execution_count": 22,
   "id": "invisible-journalist",
   "metadata": {},
   "outputs": [
    {
     "name": "stdout",
     "output_type": "stream",
     "text": [
      "['I', 'like', ['banana']]\n"
     ]
    }
   ],
   "source": [
    "words = ['I', 'like']\n",
    "\n",
    "words.append(['banana'])\n",
    "\n",
    "print(words)"
   ]
  },
  {
   "cell_type": "markdown",
   "id": "annoying-analyst",
   "metadata": {},
   "source": [
    "### 복사가 잘 된건가?"
   ]
  },
  {
   "cell_type": "markdown",
   "id": "hungry-found",
   "metadata": {},
   "source": [
    "아래의 코드를 실행 하였을 때,<br>\n",
    "변수 a와 b에 담긴 list의 요소가 같은지 혹은 다른지\n",
    "여부를 판단하고 <br>그 이유를 작성하시오."
   ]
  },
  {
   "cell_type": "code",
   "execution_count": 23,
   "id": "compressed-diesel",
   "metadata": {},
   "outputs": [
    {
     "name": "stdout",
     "output_type": "stream",
     "text": [
      "[1, 2, 5, 4, 5]\n",
      "[1, 2, 5, 4, 5]\n"
     ]
    }
   ],
   "source": [
    "a = [1, 2, 3, 4, 5]\n",
    "b = a\n",
    "\n",
    "a [2] = 5\n",
    "\n",
    "print(a)\n",
    "print(b)"
   ]
  },
  {
   "cell_type": "markdown",
   "id": "ruled-architecture",
   "metadata": {},
   "source": [
    "**정답 : `같다`** <br><br>\n",
    "\n",
    "\n",
    "\n",
    "그 이유는 `b = a`하는 과정에서 `b`에 `a`의 주소값까지 복사가 되기 때문이다.<br>\n",
    "\n",
    "즉 `a`와 `b` 두 값은 같은 주소 값을 가지고 있다.<br>\n",
    "\n",
    "그래서 `a` 혹은 `b` 둘 중 하나만 변경해도 **둘 다 변경된다**<br><br>\n",
    "\n",
    "\n",
    "\n",
    "만약 리스트를 복사하여, 기존의 리스트는 변경없이<br>\n",
    "복사된 데이터의 값만 변경하고 싶다면 `깊은 복사(Deep Copy)`를 이용해야 한다."
   ]
  },
  {
   "cell_type": "code",
   "execution_count": 24,
   "id": "facial-integration",
   "metadata": {},
   "outputs": [
    {
     "name": "stdout",
     "output_type": "stream",
     "text": [
      "[1, 2, 3, 4, 5]\n",
      "[10000, 2, 3, 4, 5]\n"
     ]
    }
   ],
   "source": [
    "import copy\n",
    "\n",
    "a = [1, 2, 3, 4, 5]\n",
    "b = copy.deepcopy(a)\n",
    "\n",
    "b[0] = 10000\n",
    "\n",
    "print(a)\n",
    "print(b)"
   ]
  },
  {
   "cell_type": "markdown",
   "id": "appropriate-facing",
   "metadata": {},
   "source": [
    "이에 대한 자세한 설명은 <br>\n",
    "\n",
    "`파프리카`님의 블로그에 아주 잘 올라와있다!\n",
    "\n",
    "😍 [파이썬 데이터구조-Shallow Copy & Deep Copy](https://creamilk88.tistory.com/189)"
   ]
  },
  {
   "cell_type": "code",
   "execution_count": null,
   "id": "solar-criminal",
   "metadata": {},
   "outputs": [],
   "source": []
  }
 ],
 "metadata": {
  "kernelspec": {
   "display_name": "Python 3",
   "language": "python",
   "name": "python3"
  },
  "language_info": {
   "codemirror_mode": {
    "name": "ipython",
    "version": 3
   },
   "file_extension": ".py",
   "mimetype": "text/x-python",
   "name": "python",
   "nbconvert_exporter": "python",
   "pygments_lexer": "ipython3",
   "version": "3.8.7"
  },
  "toc": {
   "base_numbering": 1,
   "nav_menu": {},
   "number_sections": true,
   "sideBar": true,
   "skip_h1_title": false,
   "title_cell": "Table of Contents",
   "title_sidebar": "Contents",
   "toc_cell": false,
   "toc_position": {},
   "toc_section_display": true,
   "toc_window_display": false
  },
  "varInspector": {
   "cols": {
    "lenName": 16,
    "lenType": 16,
    "lenVar": 40
   },
   "kernels_config": {
    "python": {
     "delete_cmd_postfix": "",
     "delete_cmd_prefix": "del ",
     "library": "var_list.py",
     "varRefreshCmd": "print(var_dic_list())"
    },
    "r": {
     "delete_cmd_postfix": ") ",
     "delete_cmd_prefix": "rm(",
     "library": "var_list.r",
     "varRefreshCmd": "cat(var_dic_list()) "
    }
   },
   "types_to_exclude": [
    "module",
    "function",
    "builtin_function_or_method",
    "instance",
    "_Feature"
   ],
   "window_display": false
  }
 },
 "nbformat": 4,
 "nbformat_minor": 5
}
