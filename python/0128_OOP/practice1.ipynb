{
 "cells": [
  {
   "cell_type": "markdown",
   "metadata": {},
   "source": [
    "# Practice 1\n",
    "\n",
    "> OOP(Object-Oriented-Programming)"
   ]
  },
  {
   "cell_type": "markdown",
   "metadata": {},
   "source": [
    "## Doggy\n",
    "\n",
    "> 개의 속성과 행위를 정의하는 Doggy 클래스 만들기\n",
    "\n",
    "**구성 요소**\n",
    "1. 초기화 메서드는 인자로 개의 이름과 견종을 받아서 인스턴스 변수에 할당한다.\n",
    "2. 클래스 변수는 태어난 개의 숫자와 현재 있는 개의 숫자를 기록하는 변수로 구성한다.\n",
    "     - 개가 태어나면 `num_of_dogs`와 `birth_of_dogs`의 값이 각 1씩 증가한다.\n",
    "     - 개가 죽으면 `num_of_dogs`의 값이 1 감소한다.\n",
    "3. 개는 각자의 이름과 나이가 있다.\n",
    "3. `bark()` 메서드를 호출하면 개는 짖을 수 있다.\n",
    "4. `get_status()` 메서드를 호출하면 `birth_of_dogs`와 `num_of_dogs`의 수를 출력할 수 있다.\n",
    "\n",
    "---\n",
    "\n",
    "예시)\n",
    "\n",
    "```python\n",
    "d1 = Doggy('초코', '푸들')\n",
    "d2 = Doggy('꽁이', '말티즈')\n",
    "d3 = Doggy('별이', '시츄')\n",
    "\n",
    "d1.bark() #=> 왈왈!\n",
    "d2.bark() #=> 왈왈!\n",
    "d3.bark() #=> 왈왈!\n",
    "\n",
    "Doggy.get_status() #=> Birth: 3, Current: 3\n",
    "```"
   ]
  },
  {
   "cell_type": "code",
   "execution_count": 1,
   "metadata": {},
   "outputs": [],
   "source": [
    "class Doggy:\n",
    "    pass\n",
    "    # 아래에 코드를 작성하시오.\n",
    "    \n",
    "    # 클래스 변수는 태어난 개의 숫자와 현재 있는 개의 숫자를 기록하는 변수로 구성한다.\n",
    "    # 클래스 변수 (클래스 속성)\n",
    "    # => 여러 인스턴스들이 공유하는 속성\n",
    "    birth_of_dogs = 0\n",
    "    num_of_dogs = 0\n",
    "    \n",
    "    # 초기화 메서드는 인자로 개의 이름과 견종을 받아서 인스턴스 변수에 할당한다.\n",
    "    def __init__(self, name, breed, age=1):\n",
    "        # 인스턴스 변수 (인스턴스 속성)\n",
    "        # => 개별 인스턴스들이 갖고 있는 속성\n",
    "        self.name = name     # 인스턴스 변수 접근 - self.변수명\n",
    "        self.breed = breed   # 인스턴스 변수\n",
    "        self.age = age       # 인스턴스 변수 - 기본값은 1로 설정되어있음\n",
    "        \n",
    "        # 개가 태어나면 num_of_dogs와 birth_of_dogs의 값이 각 1씩 증가한다.\n",
    "        Doggy.num_of_dogs += 1     # 클래스 변수 접근 - 클래스명.변수명\n",
    "        Doggy.birth_of_dogs += 1   # 클래스 변수 \n",
    "        print(f'{self.name} 태어남')\n",
    "        \n",
    "    \n",
    "    # 인스턴스 메서드 ( @(데코레이터)가 없다면 기본적으로 인스턴스 변수)    \n",
    "    # 개는 각자의 이름과 나이가 있다.\n",
    "    # bark() 메서드를 호출하면 개는 짖을 수 있다.\n",
    "    def bark(self): \n",
    "        print(\"멍멍!!!!!!!!\")\n",
    "     \n",
    "    # 클래스 메서드\n",
    "    # 인스턴스 없이 호출 가능! -> 목적: 클래스 속성에 접근할 때 사용\n",
    "    # get_status() 메서드를 호출하면 birth_of_dogs와 num_of_dogs의 수를 출력할 수 있다.\n",
    "    @classmethod         # 클래스 메서드로 정의\n",
    "    def get_status(cls): # 클래스 변수 호출 - 호출하는 주체가 첫번째 인자로 자동으로 들어간다. 즉, cls = Doggy\n",
    "        print(f'Birth: {cls.birth_of_dogs}, Current: {cls.num_of_dogs}')\n",
    "    \n",
    "    # 소멸자\n",
    "    # 개가 죽으면 num_of_dogs의 값이 1 감소한다.\n",
    "    def __del__(self):\n",
    "        Doggy.num_of_dogs -= 1\n",
    "        print(f'{self.name} 별세..')"
   ]
  },
  {
   "cell_type": "code",
   "execution_count": 2,
   "metadata": {
    "scrolled": true
   },
   "outputs": [
    {
     "name": "stdout",
     "output_type": "stream",
     "text": [
      "초코 태어남\n",
      "꽁이 태어남\n",
      "별이 태어남\n"
     ]
    }
   ],
   "source": [
    "# 해당 코드를 통해 올바른 결과가 나오는지 확인하시오.\n",
    "d1 = Doggy('초코', '푸들')\n",
    "d2 = Doggy('꽁이', '말티즈', 3)\n",
    "d3 = Doggy('별이', '시츄')"
   ]
  },
  {
   "cell_type": "markdown",
   "metadata": {},
   "source": [
    "- 개가 태어나면 num_of_dogs와 birth_of_dogs의 값이 각 1씩 증가한다."
   ]
  },
  {
   "cell_type": "code",
   "execution_count": 3,
   "metadata": {},
   "outputs": [
    {
     "name": "stdout",
     "output_type": "stream",
     "text": [
      "num_of_dogs:  3\n",
      "birth_of_dogs:  3\n"
     ]
    }
   ],
   "source": [
    "# 클래스 변수가 호출된다.\n",
    "print(\"num_of_dogs: \", Doggy.num_of_dogs)\n",
    "print(\"birth_of_dogs: \", Doggy.birth_of_dogs)"
   ]
  },
  {
   "cell_type": "markdown",
   "metadata": {},
   "source": [
    "- bark() 메서드를 호출하면 개는 짖을 수 있다."
   ]
  },
  {
   "cell_type": "code",
   "execution_count": 4,
   "metadata": {},
   "outputs": [
    {
     "name": "stdout",
     "output_type": "stream",
     "text": [
      "멍멍!!!!!!!!\n",
      "멍멍!!!!!!!!\n",
      "멍멍!!!!!!!!\n"
     ]
    }
   ],
   "source": [
    "# 각 인스턴스들의 인스턴스 메서드가 실행된다.\n",
    "d1.bark()\n",
    "d2.bark()\n",
    "d3.bark()"
   ]
  },
  {
   "cell_type": "markdown",
   "metadata": {},
   "source": [
    "- get_status() 메서드를 호출하면 birth_of_dogs와 num_of_dogs의 수를 출력할 수 있다."
   ]
  },
  {
   "cell_type": "code",
   "execution_count": 5,
   "metadata": {},
   "outputs": [
    {
     "name": "stdout",
     "output_type": "stream",
     "text": [
      "Birth: 3, Current: 3\n"
     ]
    }
   ],
   "source": [
    "# 클래스 메서드인 get_status() 메서드를 호출\n",
    "# 클래스명.메서드명\n",
    "\n",
    "Doggy.get_status()"
   ]
  },
  {
   "cell_type": "markdown",
   "metadata": {},
   "source": [
    "- 개는 각자의 이름과 나이가 있다."
   ]
  },
  {
   "cell_type": "code",
   "execution_count": 6,
   "metadata": {},
   "outputs": [
    {
     "name": "stdout",
     "output_type": "stream",
     "text": [
      "<d1 강아지 정보> 이름: 초코, 나이: 1\n",
      "<d2 강아지 정보> 이름: 꽁이, 나이: 3\n",
      "<d3 강아지 정보> 이름: 별이, 나이: 1\n"
     ]
    }
   ],
   "source": [
    "# 각자 인스턴스들의 인스턴스 변수를 출력해보자.\n",
    "print(f'<d1 강아지 정보> 이름: {d1.name}, 나이: {d1.age}')\n",
    "print(f'<d2 강아지 정보> 이름: {d2.name}, 나이: {d2.age}')\n",
    "print(f'<d3 강아지 정보> 이름: {d3.name}, 나이: {d3.age}')"
   ]
  },
  {
   "cell_type": "markdown",
   "metadata": {},
   "source": [
    "- 개가 죽으면 num_of_dogs의 값이 1 감소한다."
   ]
  },
  {
   "cell_type": "code",
   "execution_count": 7,
   "metadata": {},
   "outputs": [
    {
     "name": "stdout",
     "output_type": "stream",
     "text": [
      "초코 별세..\n",
      "Birth: 3, Current: 2\n"
     ]
    }
   ],
   "source": [
    "# 인스턴스 소멸 방법 : 1) del 인스턴스, 2) 기존 인스턴스명(변수명)에 새로운 값 할당\n",
    "del d1\n",
    "\n",
    "Doggy.get_status()"
   ]
  },
  {
   "cell_type": "code",
   "execution_count": null,
   "metadata": {},
   "outputs": [],
   "source": []
  }
 ],
 "metadata": {
  "kernelspec": {
   "display_name": "Python 3",
   "language": "python",
   "name": "python3"
  },
  "language_info": {
   "codemirror_mode": {
    "name": "ipython",
    "version": 3
   },
   "file_extension": ".py",
   "mimetype": "text/x-python",
   "name": "python",
   "nbconvert_exporter": "python",
   "pygments_lexer": "ipython3",
   "version": "3.8.7"
  },
  "toc": {
   "base_numbering": 1,
   "nav_menu": {},
   "number_sections": true,
   "sideBar": true,
   "skip_h1_title": false,
   "title_cell": "Table of Contents",
   "title_sidebar": "Contents",
   "toc_cell": false,
   "toc_position": {},
   "toc_section_display": true,
   "toc_window_display": false
  },
  "varInspector": {
   "cols": {
    "lenName": 16,
    "lenType": 16,
    "lenVar": 40
   },
   "kernels_config": {
    "python": {
     "delete_cmd_postfix": "",
     "delete_cmd_prefix": "del ",
     "library": "var_list.py",
     "varRefreshCmd": "print(var_dic_list())"
    },
    "r": {
     "delete_cmd_postfix": ") ",
     "delete_cmd_prefix": "rm(",
     "library": "var_list.r",
     "varRefreshCmd": "cat(var_dic_list()) "
    }
   },
   "position": {
    "height": "215.183px",
    "left": "542.213px",
    "right": "20px",
    "top": "128.959px",
    "width": "617.989px"
   },
   "types_to_exclude": [
    "module",
    "function",
    "builtin_function_or_method",
    "instance",
    "_Feature"
   ],
   "window_display": false
  }
 },
 "nbformat": 4,
 "nbformat_minor": 4
}
