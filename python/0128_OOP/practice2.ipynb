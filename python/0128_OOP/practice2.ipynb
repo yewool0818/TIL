{
 "cells": [
  {
   "cell_type": "markdown",
   "metadata": {},
   "source": [
    "# Practice 2(선택)\n",
    "\n",
    "> OOP(Object-Oriented-Programming)"
   ]
  },
  {
   "cell_type": "markdown",
   "metadata": {},
   "source": [
    "## Pair Matching Program\n",
    "\n",
    "> 페어 프로그래밍은 하나의 컴퓨터에서 두 사람의 프로그래머가 작업하는 방식을 의미한다. \n",
    ">\n",
    "> SSAFY 1학기 정규 과정에서 프로젝트는 페어 프로그래밍을 통해 진행한다. 진정한 프로그래머가 되기 위해 김싸피는 페어를 매칭하기 위한 프로그램을 작성하려고 한다. 클래스를 활용해 작성하며 포함되는 메서드는 아래와 같다.\n",
    ">\n",
    "\n",
    "**구성 요소**\n",
    "1. 초기화 메서드는 인자로 학생 이름으로 구성된 리스트를 받아서 인스턴스 변수에 할당한다.\n",
    "2. `pick(n)` 메서드는 학생들 명단에서 인자 n명 만큼 랜덤으로 추출하여 return한다.\n",
    "3. `match_pair()` 메서드는 학생들 명단을 랜덤으로 2명씩 매칭해 준다. 이때, 학생들 명단의 수가 홀수명이면 단 한팀만 3명으로 구성한다.\n",
    "\n",
    "---\n",
    "\n",
    "예시)\n",
    "\n",
    "```python\n",
    "ch = ClassHelper(['김싸피', '이싸피', '조싸피', '박싸피', '정싸피'])\n",
    "\n",
    "ch.pick(1) #=> ['이싸피']\n",
    "ch.pick(1) #=> ['김싸피']\n",
    "ch.pick(2) #=> ['김싸피', '박싸피']\n",
    "ch.pick(3) #=> ['김싸피', '조싸피', '정싸피']\n",
    "ch.pick(4) #=> ['박싸피', '이싸피', '김싸피', '정싸피']\n",
    "\n",
    "ch.match_pair() #=> [['조싸피', '이싸피'], ['김싸피', '정싸피', '박싸피']]\n",
    "```"
   ]
  },
  {
   "cell_type": "code",
   "execution_count": 111,
   "metadata": {},
   "outputs": [],
   "source": [
    "import random\n",
    "\n",
    "class ClassHelper:\n",
    "    \n",
    "    # 생성자\n",
    "    def __init__(self, students): # 파라미터 : 학생_이름_리스트\n",
    "        self.students = students  # 학생_이름_리스트 인스턴스 변수에 할당\n",
    "        self.length = len(students)\n",
    "    \n",
    "    # pick(self, n) - 인스턴스 메서드\n",
    "    # : 학생들 명단에서 인자 n명 만큼 랜덤으로 추출하여 return한다.\n",
    "    def pick(self, n):\n",
    "        if n > self.length:\n",
    "            print(f\"총 학생 수를 초과하여 입력할 수 없습니다. 총 학생수는 {len(self.students)}명입니다\")\n",
    "        else:\n",
    "            # 한 팀에 몇명의 멤버가 속할지 member에 할당\n",
    "            member = random.randint(1, n)                # randint(1, n) : 1부터 n까지(n포함) 정수 하나 랜덤으로 추출\n",
    "            return random.sample(self.students, member)  # sample(list, n) : list에서 n개의 요소 랜덤 추출하여 리스트로 반환\n",
    "        \n",
    "    \n",
    "    # match_pair(self) - 인스턴스 메서드\n",
    "    # : 학생들 명단을 랜덤으로 2명씩 매칭해 준다. 이때, 학생들 명단의 수가 홀수명이면 단 한팀만 3명으로 구성한다.\n",
    "    def match_pair(self):\n",
    "        \n",
    "        members = []\n",
    "        \n",
    "        # 입력받은 인스턴스 변수인 students의 순서를 섞어준다.\n",
    "        random.shuffle(self.students) # shuffle(list):suffled_list\n",
    "        \n",
    "        # 학생 수만큼 2단위로 인덱스를 반복한다.\n",
    "        for i in range(0, self.length, 2):\n",
    "            if (i == self.length-1) and (self.length % 2) : # 맨 마지막 학생일 경우 and 총 학생 수가 홀수라면\n",
    "                members[-1].append(self.students[i]) # 맨 마지막 멤버에 추가된다\n",
    "                break # 반복 종료\n",
    "            \n",
    "            # 순서가 섞인 students에서 2명씩 짝을 지어 members에 넣어준다.\n",
    "            members.append(self.students[i:i+2])\n",
    "   \n",
    "        \n",
    "        # 2명 혹은 3명씩 랜덤으로 짝 지어진 팀 리스트 반환\n",
    "        return members\n",
    "        \n",
    "    # dont_be_alone(self) - 인스턴스 메서드\n",
    "    # : 학생들 명단을 랜덤으로 3명씩 매칭해 준다. 이때, 학생들 명단의 수가 짝수이면 단 한팀만 2명으로 구성한다.\n",
    "    # : 팀명을 정해준다.\n",
    "    def dont_be_alone(self):\n",
    "\n",
    "        members = []\n",
    "\n",
    "        # 입력받은 인스턴스 변수인 students의 순서를 섞어준다.\n",
    "        random.shuffle(self.students) # shuffle(list):suffled_list\n",
    "\n",
    "        # 학생 수만큼 3단위로 인덱스를 반복한다.\n",
    "        for i in range(0, self.length, 3):\n",
    "\n",
    "            # 총 학생 수가 3단위로 나누어 떨어지지 않는다면\n",
    "            if self.length % 3: \n",
    "                # 나머지가 1인 경우 - 끝 2개의 조가 2명씩\n",
    "                if self.length % 3 == 1 and i == self.length-4:\n",
    "                    for j in range(i, self.length, 2):\n",
    "                        members.append(self.students[j:j+2])\n",
    "                    break # 반복 종료\n",
    "                # 나머지가 2인 경우 - 끝 1개의 조가 2명씩\n",
    "                elif self.length % 3 == 2 and i == self.length-2:\n",
    "                    members.append(self.students[i:])\n",
    "                    break # 반복 종료\n",
    "\n",
    "\n",
    "            members.append(self.students[i:i+3])\n",
    "\n",
    "        # 2명 or 3명씩 랜덤으로 짝 지어진 팀 리스트 반환\n",
    "        return members\n",
    "    \n",
    "    \n",
    "    def group(self, *args):\n",
    "        grp = {}\n",
    "        idx = {i for i in range(1, self.length+1)}\n",
    "        \n",
    "        for i in range((self.length // len(args)) + 1):\n",
    "            for grp_name in args:\n",
    "                if idx:\n",
    "                    temp = random.randint(1,self.length)\n",
    "                    while temp not in idx:\n",
    "                        temp = random.randint(1,self.length)\n",
    "                    idx.remove(temp)\n",
    "\n",
    "                    if grp_name in grp.keys():\n",
    "                        grp[grp_name] += ([self.students[temp-1]])\n",
    "                        continue\n",
    "                    grp[grp_name] = ([self.students[temp-1]])\n",
    "        self.grp = grp\n",
    "        return grp\n"
   ]
  },
  {
   "cell_type": "code",
   "execution_count": 113,
   "metadata": {},
   "outputs": [],
   "source": [
    "# 해당 코드를 통해 올바른 결과가 나오는지 확인하시오.\n",
    "our_class_members = ['김지용', '김대호', '김영균', '송승현', '김윤빈', '성루비', '심찬인', '김창규', '민찬우', '안선진', '김보민', '송지현', '이연지', '최정윤', '차범희', '한승운', '임광훈', '주원상', '정예울']\n",
    "class_mate = ClassHelper(our_class_members)"
   ]
  },
  {
   "cell_type": "code",
   "execution_count": 114,
   "metadata": {
    "scrolled": false
   },
   "outputs": [
    {
     "data": {
      "text/plain": [
       "['한승운']"
      ]
     },
     "execution_count": 114,
     "metadata": {},
     "output_type": "execute_result"
    }
   ],
   "source": [
    "class_mate.pick(5)"
   ]
  },
  {
   "cell_type": "code",
   "execution_count": 115,
   "metadata": {},
   "outputs": [
    {
     "data": {
      "text/plain": [
       "[['주원상', '김보민'],\n",
       " ['김창규', '차범희'],\n",
       " ['안선진', '김영균'],\n",
       " ['송승현', '정예울'],\n",
       " ['한승운', '최정윤'],\n",
       " ['송지현', '심찬인'],\n",
       " ['민찬우', '김윤빈'],\n",
       " ['김대호', '이연지'],\n",
       " ['김지용', '성루비', '임광훈']]"
      ]
     },
     "execution_count": 115,
     "metadata": {},
     "output_type": "execute_result"
    }
   ],
   "source": [
    "class_mate.match_pair()"
   ]
  },
  {
   "cell_type": "code",
   "execution_count": 116,
   "metadata": {
    "scrolled": false
   },
   "outputs": [
    {
     "data": {
      "text/plain": [
       "[['차범희', '심찬인', '김보민'],\n",
       " ['성루비', '민찬우', '김지용'],\n",
       " ['최정윤', '임광훈', '한승운'],\n",
       " ['김대호', '송지현', '이연지'],\n",
       " ['안선진', '주원상', '김창규'],\n",
       " ['정예울', '김영균'],\n",
       " ['김윤빈', '송승현']]"
      ]
     },
     "execution_count": 116,
     "metadata": {},
     "output_type": "execute_result"
    }
   ],
   "source": [
    "class_mate.dont_be_alone()"
   ]
  },
  {
   "cell_type": "code",
   "execution_count": 117,
   "metadata": {},
   "outputs": [
    {
     "data": {
      "text/plain": [
       "{'청군': ['김보민', '김영균', '정예울', '김윤빈', '이연지'],\n",
       " '백군': ['주원상', '안선진', '임광훈', '성루비', '김창규'],\n",
       " '멍군': ['심찬인', '송지현', '한승운', '김지용', '민찬우'],\n",
       " '냥군': ['김대호', '최정윤', '송승현', '차범희']}"
      ]
     },
     "execution_count": 117,
     "metadata": {},
     "output_type": "execute_result"
    }
   ],
   "source": [
    "class_mate.group('청군', '백군', '멍군', '냥군')"
   ]
  },
  {
   "cell_type": "code",
   "execution_count": null,
   "metadata": {},
   "outputs": [],
   "source": []
  }
 ],
 "metadata": {
  "kernelspec": {
   "display_name": "Python 3",
   "language": "python",
   "name": "python3"
  },
  "language_info": {
   "codemirror_mode": {
    "name": "ipython",
    "version": 3
   },
   "file_extension": ".py",
   "mimetype": "text/x-python",
   "name": "python",
   "nbconvert_exporter": "python",
   "pygments_lexer": "ipython3",
   "version": "3.8.7"
  },
  "toc": {
   "base_numbering": 1,
   "nav_menu": {},
   "number_sections": true,
   "sideBar": true,
   "skip_h1_title": false,
   "title_cell": "Table of Contents",
   "title_sidebar": "Contents",
   "toc_cell": false,
   "toc_position": {},
   "toc_section_display": true,
   "toc_window_display": false
  },
  "varInspector": {
   "cols": {
    "lenName": 16,
    "lenType": 16,
    "lenVar": 40
   },
   "kernels_config": {
    "python": {
     "delete_cmd_postfix": "",
     "delete_cmd_prefix": "del ",
     "library": "var_list.py",
     "varRefreshCmd": "print(var_dic_list())"
    },
    "r": {
     "delete_cmd_postfix": ") ",
     "delete_cmd_prefix": "rm(",
     "library": "var_list.r",
     "varRefreshCmd": "cat(var_dic_list()) "
    }
   },
   "types_to_exclude": [
    "module",
    "function",
    "builtin_function_or_method",
    "instance",
    "_Feature"
   ],
   "window_display": false
  }
 },
 "nbformat": 4,
 "nbformat_minor": 4
}
