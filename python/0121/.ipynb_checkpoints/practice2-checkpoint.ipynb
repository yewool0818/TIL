{
 "cells": [
  {
   "cell_type": "markdown",
   "metadata": {},
   "source": [
    "# Practice 2\n",
    "\n",
    "> 함수"
   ]
  },
  {
   "cell_type": "markdown",
   "metadata": {},
   "source": [
    "## 불쌍한 달팽이\n",
    "\n",
    "> 달팽이는 낮 시간 동안에 기둥을 올라간다. 하지만 밤에는 잠을 자면서 어느 정도의 거리만큼 미끄러진다. (낮 시간 동안 올라간 거리보다는 적게 미끄러진다.)\n",
    "> \n",
    "> 달팽이가 기둥의 꼭대기에 도달하는 날까지 걸리는 시간을 반환하는 함수 `snail()`을 작성하시오.\n",
    "\n",
    "> 함수의 인자는 다음과 같다.\n",
    "1. 기둥의 높이(미터)\n",
    "2. 낮 시간 동안 달팽이가 올라가는 거리(미터)\n",
    "3. 달팽이가 야간에 잠을 자는 동안 미끄러지는 거리(미터)\n",
    "\n",
    "---\n",
    "\n",
    "예시)\n",
    "\n",
    "```python\n",
    "snail(100, 5, 2) #=> 33\n",
    "```"
   ]
  },
  {
   "cell_type": "code",
   "execution_count": 20,
   "metadata": {},
   "outputs": [],
   "source": [
    "def snail(height, day, night):\n",
    "    \n",
    "    # 1. 변수 초기화 \n",
    "    # 달팽이가 소요하는 날짜\n",
    "    riding_day = 0\n",
    "    # 달팽이가 오르는 높이\n",
    "    riding_height = 0\n",
    "    \n",
    "    while True:\n",
    "        # 하루 시작(나날이 더해짐)\n",
    "        riding_day += 1\n",
    "        # 낮에 오른 높이\n",
    "        riding_height += day\n",
    "        # 낮에 오른 높이까지 더했을 때, 전체 높이보다 높으면 while문 종료\n",
    "        if height <= riding_height:\n",
    "            break\n",
    "        # 그렇지 않으면, 밤에 미끄러진 높이가 빠짐\n",
    "        riding_height -= night\n",
    "        \n",
    "    # 오른 높이가 총 높이보다 높을 때의 날짜 반환\n",
    "    return riding_day"
   ]
  },
  {
   "cell_type": "code",
   "execution_count": 25,
   "metadata": {},
   "outputs": [],
   "source": [
    "# Solution\n",
    "def snail(height, day, night):\n",
    "    # 1. 변수 초기화(걸린 일자)\n",
    "    count = 0\n",
    "    \n",
    "    while True:\n",
    "        # 1. 새로운 아침이 밝았어요\n",
    "        count += 1\n",
    "        \n",
    "        # 2. 낮이 되어 기둥에 올라가요\n",
    "        height -= day\n",
    "        \n",
    "        # 3. 기둥에 도착하면? 날짜를 반환하고 함수를 끝낸다\n",
    "        if height <= 0:\n",
    "            return count\n",
    "        \n",
    "        # 4. 기둥에 도착하지 못하면? 밤이 되어 기둥에서 미끄러진다\n",
    "        height += night"
   ]
  },
  {
   "cell_type": "code",
   "execution_count": 27,
   "metadata": {},
   "outputs": [
    {
     "name": "stdout",
     "output_type": "stream",
     "text": [
      "33\n",
      "1\n"
     ]
    }
   ],
   "source": [
    "# 해당 코드를 통해 올바른 결과가 나오는지 확인하시오.\n",
    "print(snail(100, 5, 2))\n",
    "print(snail(3, 100, 1))"
   ]
  },
  {
   "cell_type": "markdown",
   "metadata": {},
   "source": [
    "## 자릿수 더하기 (SWEA #2058)\n",
    "\n",
    "> 자연수 number를 입력 받아, 각 자릿수의 합을 계산하여 출력하시오.\n",
    "\n",
    "---\n",
    "\n",
    "예시)\n",
    "\n",
    "```python\n",
    "sum_of_digit(1234) #=> 10\n",
    "sum_of_digit(4321) #=> 10\n",
    "```"
   ]
  },
  {
   "cell_type": "code",
   "execution_count": 22,
   "metadata": {},
   "outputs": [],
   "source": [
    "def sum_of_digit(number):\n",
    "    # 문자열로 변환\n",
    "    number_to_string = str(number)\n",
    "    \n",
    "    # 변수 초기화 - 총 더할 숫자\n",
    "    total = 0\n",
    "    \n",
    "    # 문자열로 변환한 숫자를 하나씩 순회하며 total에 더하기\n",
    "    for n in number_to_string:\n",
    "        # 정수형으로 변환하여 더해주기\n",
    "        total += int(n)\n",
    "        \n",
    "    # return \n",
    "    return total"
   ]
  },
  {
   "cell_type": "code",
   "execution_count": 34,
   "metadata": {},
   "outputs": [],
   "source": [
    "# Solution\n",
    "def sum_of_digit(number):\n",
    "    # 1. 변수 초기화\n",
    "    total = 0\n",
    "    \n",
    "    # 2. 반복\n",
    "    while number / 10:\n",
    "        # number, remainder = divmod(number, 10) # 몫, 나머지구하는 built-in 함수(divmod(number, value))\n",
    "        \n",
    "        # 3. 몫과 나머지를 분리하기\n",
    "        remainder = number % 10  # 나머지\n",
    "        number = number // 10    # 몫으로 나온 값은 다음에 나눌 수로 덮어쓰기\n",
    "        \n",
    "        # 4. 나머지 더하기\n",
    "        total += remainder\n",
    "        \n",
    "    return total"
   ]
  },
  {
   "cell_type": "code",
   "execution_count": null,
   "metadata": {},
   "outputs": [],
   "source": [
    "# Solution 2 - recusion method\n",
    "def sum_of_digit(number):\n",
    "    if "
   ]
  },
  {
   "cell_type": "code",
   "execution_count": 35,
   "metadata": {
    "scrolled": true
   },
   "outputs": [
    {
     "name": "stdout",
     "output_type": "stream",
     "text": [
      "10\n",
      "10\n"
     ]
    }
   ],
   "source": [
    "# 해당 코드를 통해 올바른 결과가 나오는지 확인하시오.\n",
    "print(sum_of_digit(1234))\n",
    "print(sum_of_digit(4321))"
   ]
  },
  {
   "cell_type": "code",
   "execution_count": null,
   "metadata": {},
   "outputs": [],
   "source": []
  }
 ],
 "metadata": {
  "kernelspec": {
   "display_name": "Python 3",
   "language": "python",
   "name": "python3"
  },
  "language_info": {
   "codemirror_mode": {
    "name": "ipython",
    "version": 3
   },
   "file_extension": ".py",
   "mimetype": "text/x-python",
   "name": "python",
   "nbconvert_exporter": "python",
   "pygments_lexer": "ipython3",
   "version": "3.9.0"
  },
  "toc": {
   "base_numbering": 1,
   "nav_menu": {},
   "number_sections": true,
   "sideBar": true,
   "skip_h1_title": false,
   "title_cell": "Table of Contents",
   "title_sidebar": "Contents",
   "toc_cell": false,
   "toc_position": {},
   "toc_section_display": true,
   "toc_window_display": false
  }
 },
 "nbformat": 4,
 "nbformat_minor": 4
}
